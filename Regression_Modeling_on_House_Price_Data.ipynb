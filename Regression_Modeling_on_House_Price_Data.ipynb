{
 "cells": [
  {
   "cell_type": "markdown",
   "id": "4f95c03e-21c4-446d-9969-4da0465a64d0",
   "metadata": {},
   "source": [
    "<table align = \"center\" width = 100%>\n",
    "   <tr>\n",
    "       </td>\n",
    "           </td>\n",
    "       </td>\n",
    "       <td>\n",
    "          <div align = \"center\">\n",
    "               <font color = \"#21618C\" size = 8px>\n",
    "                          <b> Regression Modeling on House Price Data</b>\n",
    "               </font>\n",
    "          </div>\n",
    "        </td>\n",
    "    <tr>\n",
    "</table>"
   ]
  },
  {
   "cell_type": "markdown",
   "id": "b78f4365-6fb7-43af-8e41-1987e4df1b7c",
   "metadata": {},
   "source": [
    "# It is a regression problem we doing machine learning on house price data"
   ]
  },
  {
   "cell_type": "markdown",
   "id": "bef4e92c-a6f7-4919-9e8e-d92a2ede57a6",
   "metadata": {},
   "source": [
    "<table align = \"center\" width = 100%>\n",
    "   <tr>\n",
    "       </td>\n",
    "           </td>\n",
    "       </td>\n",
    "       <td>\n",
    "          <div align = \"center\">\n",
    "               <font color = \"#21618C\" size = 8px>\n",
    "                          <b> Price Data</b>\n",
    "               </font>\n",
    "          </div>\n",
    "        </td>\n",
    "    <tr>\n",
    "</table>"
   ]
  },
  {
   "cell_type": "markdown",
   "id": "177d4f45-2873-4e03-84d7-cb3bbe4cd729",
   "metadata": {},
   "source": [
    "# Problem Statement\n",
    "\n",
    "This dataset is created for the prediction of House Prices from an Indian perspective Towns. The dataset contains various features that are important during the application for the selling the Houses. The predicted output obtained from the classification algorithm gives a fair idea about the chances of a Houses Sold."
   ]
  },
  {
   "cell_type": "code",
   "execution_count": 1,
   "id": "8e739764-50e4-457d-b64c-809649331064",
   "metadata": {},
   "outputs": [],
   "source": [
    "# About the dataset (House pricing prediction data)"
   ]
  },
  {
   "cell_type": "markdown",
   "id": "3faed04b-e5fb-469f-8546-3735256d4c48",
   "metadata": {},
   "source": [
    "## Importing necessary libraries"
   ]
  },
  {
   "cell_type": "code",
   "execution_count": 2,
   "id": "af2bd907-e2cb-4aa5-b7ba-9f1eb17254bc",
   "metadata": {},
   "outputs": [],
   "source": [
    "# Import 'Pandas'\n",
    "import pandas as pd\n",
    "# Pandas is used to format the data structure, it means that it can convert any data structure into pandas data frame.\n",
    "\n",
    "# Import 'Numpy'\n",
    "import numpy as np\n",
    "# To find statistical summary we use Numpy\n",
    "\n",
    "# import sub-package of Matplotlib\n",
    "import matplotlib.pyplot as plt\n",
    "# It is used for data visualization\n",
    "\n",
    "# import 'Seaborn'\n",
    "import seaborn as sns\n",
    "# It is used for data visualization\n",
    "\n",
    "# to suppress warnings\n",
    "from warnings import filterwarnings\n",
    "filterwarnings('ignore')"
   ]
  },
  {
   "cell_type": "markdown",
   "id": "ddc7773a-4aef-49ee-8534-ec08c3af9b8d",
   "metadata": {},
   "source": [
    "## Step 1 - Load the Dataset"
   ]
  },
  {
   "cell_type": "code",
   "execution_count": 3,
   "id": "6a79c255-638f-45b7-8fc5-2c6d7baff79e",
   "metadata": {},
   "outputs": [
    {
     "data": {
      "text/html": [
       "<div>\n",
       "<style scoped>\n",
       "    .dataframe tbody tr th:only-of-type {\n",
       "        vertical-align: middle;\n",
       "    }\n",
       "\n",
       "    .dataframe tbody tr th {\n",
       "        vertical-align: top;\n",
       "    }\n",
       "\n",
       "    .dataframe thead th {\n",
       "        text-align: right;\n",
       "    }\n",
       "</style>\n",
       "<table border=\"1\" class=\"dataframe\">\n",
       "  <thead>\n",
       "    <tr style=\"text-align: right;\">\n",
       "      <th></th>\n",
       "      <th>price</th>\n",
       "      <th>resid_area</th>\n",
       "      <th>air_qual</th>\n",
       "      <th>room_num</th>\n",
       "      <th>age</th>\n",
       "      <th>distance</th>\n",
       "      <th>teachers</th>\n",
       "      <th>poor_prop</th>\n",
       "      <th>airport</th>\n",
       "      <th>n_hos_beds</th>\n",
       "      <th>n_hot_rooms</th>\n",
       "      <th>waterbody</th>\n",
       "      <th>rainfall</th>\n",
       "      <th>bus_ter</th>\n",
       "      <th>parks</th>\n",
       "      <th>Sold</th>\n",
       "    </tr>\n",
       "  </thead>\n",
       "  <tbody>\n",
       "    <tr>\n",
       "      <th>0</th>\n",
       "      <td>24.0</td>\n",
       "      <td>32.31</td>\n",
       "      <td>0.538</td>\n",
       "      <td>6.575</td>\n",
       "      <td>65.2</td>\n",
       "      <td>4.35</td>\n",
       "      <td>24.7</td>\n",
       "      <td>4.98</td>\n",
       "      <td>YES</td>\n",
       "      <td>5.480</td>\n",
       "      <td>11.1920</td>\n",
       "      <td>River</td>\n",
       "      <td>23</td>\n",
       "      <td>YES</td>\n",
       "      <td>0.049347</td>\n",
       "      <td>0</td>\n",
       "    </tr>\n",
       "    <tr>\n",
       "      <th>1</th>\n",
       "      <td>21.6</td>\n",
       "      <td>37.07</td>\n",
       "      <td>0.469</td>\n",
       "      <td>6.421</td>\n",
       "      <td>78.9</td>\n",
       "      <td>4.99</td>\n",
       "      <td>22.2</td>\n",
       "      <td>9.14</td>\n",
       "      <td>NO</td>\n",
       "      <td>7.332</td>\n",
       "      <td>12.1728</td>\n",
       "      <td>Lake</td>\n",
       "      <td>42</td>\n",
       "      <td>YES</td>\n",
       "      <td>0.046146</td>\n",
       "      <td>1</td>\n",
       "    </tr>\n",
       "    <tr>\n",
       "      <th>2</th>\n",
       "      <td>34.7</td>\n",
       "      <td>37.07</td>\n",
       "      <td>0.469</td>\n",
       "      <td>7.185</td>\n",
       "      <td>61.1</td>\n",
       "      <td>5.03</td>\n",
       "      <td>22.2</td>\n",
       "      <td>4.03</td>\n",
       "      <td>NO</td>\n",
       "      <td>7.394</td>\n",
       "      <td>101.1200</td>\n",
       "      <td>NaN</td>\n",
       "      <td>38</td>\n",
       "      <td>YES</td>\n",
       "      <td>0.045764</td>\n",
       "      <td>0</td>\n",
       "    </tr>\n",
       "    <tr>\n",
       "      <th>3</th>\n",
       "      <td>33.4</td>\n",
       "      <td>32.18</td>\n",
       "      <td>0.458</td>\n",
       "      <td>6.998</td>\n",
       "      <td>45.8</td>\n",
       "      <td>6.21</td>\n",
       "      <td>21.3</td>\n",
       "      <td>2.94</td>\n",
       "      <td>YES</td>\n",
       "      <td>9.268</td>\n",
       "      <td>11.2672</td>\n",
       "      <td>Lake</td>\n",
       "      <td>45</td>\n",
       "      <td>YES</td>\n",
       "      <td>0.047151</td>\n",
       "      <td>0</td>\n",
       "    </tr>\n",
       "    <tr>\n",
       "      <th>4</th>\n",
       "      <td>36.2</td>\n",
       "      <td>32.18</td>\n",
       "      <td>0.458</td>\n",
       "      <td>7.147</td>\n",
       "      <td>54.2</td>\n",
       "      <td>6.16</td>\n",
       "      <td>21.3</td>\n",
       "      <td>5.33</td>\n",
       "      <td>NO</td>\n",
       "      <td>8.824</td>\n",
       "      <td>11.2896</td>\n",
       "      <td>Lake</td>\n",
       "      <td>55</td>\n",
       "      <td>YES</td>\n",
       "      <td>0.039474</td>\n",
       "      <td>0</td>\n",
       "    </tr>\n",
       "  </tbody>\n",
       "</table>\n",
       "</div>"
      ],
      "text/plain": [
       "   price  resid_area  air_qual  room_num   age  distance  teachers  poor_prop  \\\n",
       "0   24.0       32.31     0.538     6.575  65.2      4.35      24.7       4.98   \n",
       "1   21.6       37.07     0.469     6.421  78.9      4.99      22.2       9.14   \n",
       "2   34.7       37.07     0.469     7.185  61.1      5.03      22.2       4.03   \n",
       "3   33.4       32.18     0.458     6.998  45.8      6.21      21.3       2.94   \n",
       "4   36.2       32.18     0.458     7.147  54.2      6.16      21.3       5.33   \n",
       "\n",
       "  airport  n_hos_beds  n_hot_rooms waterbody  rainfall bus_ter     parks  Sold  \n",
       "0     YES       5.480      11.1920     River        23     YES  0.049347     0  \n",
       "1      NO       7.332      12.1728      Lake        42     YES  0.046146     1  \n",
       "2      NO       7.394     101.1200       NaN        38     YES  0.045764     0  \n",
       "3     YES       9.268      11.2672      Lake        45     YES  0.047151     0  \n",
       "4      NO       8.824      11.2896      Lake        55     YES  0.039474     0  "
      ]
     },
     "execution_count": 3,
     "metadata": {},
     "output_type": "execute_result"
    }
   ],
   "source": [
    "# Load the data and name it 'df_house_price'\n",
    "\n",
    "df_house_price = pd.read_csv(r\"E:\\AI ML\\Code Unnati\\Python_Scripts_CKPCET\\House_Price1.csv\")\n",
    "\n",
    "# display first five observations using head()\n",
    "df_house_price.head()"
   ]
  },
  {
   "cell_type": "code",
   "execution_count": 4,
   "id": "b16ee5af-3186-48ea-b9c1-8576dca534a1",
   "metadata": {},
   "outputs": [
    {
     "data": {
      "text/html": [
       "<div>\n",
       "<style scoped>\n",
       "    .dataframe tbody tr th:only-of-type {\n",
       "        vertical-align: middle;\n",
       "    }\n",
       "\n",
       "    .dataframe tbody tr th {\n",
       "        vertical-align: top;\n",
       "    }\n",
       "\n",
       "    .dataframe thead th {\n",
       "        text-align: right;\n",
       "    }\n",
       "</style>\n",
       "<table border=\"1\" class=\"dataframe\">\n",
       "  <thead>\n",
       "    <tr style=\"text-align: right;\">\n",
       "      <th></th>\n",
       "      <th>price</th>\n",
       "      <th>resid_area</th>\n",
       "      <th>air_qual</th>\n",
       "      <th>room_num</th>\n",
       "      <th>age</th>\n",
       "      <th>distance</th>\n",
       "      <th>teachers</th>\n",
       "      <th>poor_prop</th>\n",
       "      <th>airport</th>\n",
       "      <th>n_hos_beds</th>\n",
       "      <th>n_hot_rooms</th>\n",
       "      <th>waterbody</th>\n",
       "      <th>rainfall</th>\n",
       "      <th>bus_ter</th>\n",
       "      <th>parks</th>\n",
       "      <th>Sold</th>\n",
       "    </tr>\n",
       "  </thead>\n",
       "  <tbody>\n",
       "    <tr>\n",
       "      <th>501</th>\n",
       "      <td>22.4</td>\n",
       "      <td>41.93</td>\n",
       "      <td>0.573</td>\n",
       "      <td>6.593</td>\n",
       "      <td>69.1</td>\n",
       "      <td>2.64</td>\n",
       "      <td>19.0</td>\n",
       "      <td>9.67</td>\n",
       "      <td>NO</td>\n",
       "      <td>9.348</td>\n",
       "      <td>12.1792</td>\n",
       "      <td>Lake and River</td>\n",
       "      <td>27</td>\n",
       "      <td>YES</td>\n",
       "      <td>0.056006</td>\n",
       "      <td>1</td>\n",
       "    </tr>\n",
       "    <tr>\n",
       "      <th>502</th>\n",
       "      <td>20.6</td>\n",
       "      <td>41.93</td>\n",
       "      <td>0.573</td>\n",
       "      <td>6.120</td>\n",
       "      <td>76.7</td>\n",
       "      <td>2.44</td>\n",
       "      <td>19.0</td>\n",
       "      <td>9.08</td>\n",
       "      <td>YES</td>\n",
       "      <td>6.612</td>\n",
       "      <td>13.1648</td>\n",
       "      <td>Lake and River</td>\n",
       "      <td>20</td>\n",
       "      <td>YES</td>\n",
       "      <td>0.059903</td>\n",
       "      <td>1</td>\n",
       "    </tr>\n",
       "    <tr>\n",
       "      <th>503</th>\n",
       "      <td>23.9</td>\n",
       "      <td>41.93</td>\n",
       "      <td>0.573</td>\n",
       "      <td>6.976</td>\n",
       "      <td>91.0</td>\n",
       "      <td>2.34</td>\n",
       "      <td>19.0</td>\n",
       "      <td>5.64</td>\n",
       "      <td>NO</td>\n",
       "      <td>5.478</td>\n",
       "      <td>12.1912</td>\n",
       "      <td>NaN</td>\n",
       "      <td>31</td>\n",
       "      <td>YES</td>\n",
       "      <td>0.057572</td>\n",
       "      <td>1</td>\n",
       "    </tr>\n",
       "    <tr>\n",
       "      <th>504</th>\n",
       "      <td>22.0</td>\n",
       "      <td>41.93</td>\n",
       "      <td>0.573</td>\n",
       "      <td>6.794</td>\n",
       "      <td>89.3</td>\n",
       "      <td>2.54</td>\n",
       "      <td>19.0</td>\n",
       "      <td>6.48</td>\n",
       "      <td>YES</td>\n",
       "      <td>7.940</td>\n",
       "      <td>15.1760</td>\n",
       "      <td>NaN</td>\n",
       "      <td>47</td>\n",
       "      <td>YES</td>\n",
       "      <td>0.060694</td>\n",
       "      <td>1</td>\n",
       "    </tr>\n",
       "    <tr>\n",
       "      <th>505</th>\n",
       "      <td>19.0</td>\n",
       "      <td>41.93</td>\n",
       "      <td>0.573</td>\n",
       "      <td>6.030</td>\n",
       "      <td>80.8</td>\n",
       "      <td>2.72</td>\n",
       "      <td>19.0</td>\n",
       "      <td>7.88</td>\n",
       "      <td>YES</td>\n",
       "      <td>10.280</td>\n",
       "      <td>10.1520</td>\n",
       "      <td>NaN</td>\n",
       "      <td>45</td>\n",
       "      <td>YES</td>\n",
       "      <td>0.060336</td>\n",
       "      <td>1</td>\n",
       "    </tr>\n",
       "  </tbody>\n",
       "</table>\n",
       "</div>"
      ],
      "text/plain": [
       "     price  resid_area  air_qual  room_num   age  distance  teachers  \\\n",
       "501   22.4       41.93     0.573     6.593  69.1      2.64      19.0   \n",
       "502   20.6       41.93     0.573     6.120  76.7      2.44      19.0   \n",
       "503   23.9       41.93     0.573     6.976  91.0      2.34      19.0   \n",
       "504   22.0       41.93     0.573     6.794  89.3      2.54      19.0   \n",
       "505   19.0       41.93     0.573     6.030  80.8      2.72      19.0   \n",
       "\n",
       "     poor_prop airport  n_hos_beds  n_hot_rooms       waterbody  rainfall  \\\n",
       "501       9.67      NO       9.348      12.1792  Lake and River        27   \n",
       "502       9.08     YES       6.612      13.1648  Lake and River        20   \n",
       "503       5.64      NO       5.478      12.1912             NaN        31   \n",
       "504       6.48     YES       7.940      15.1760             NaN        47   \n",
       "505       7.88     YES      10.280      10.1520             NaN        45   \n",
       "\n",
       "    bus_ter     parks  Sold  \n",
       "501     YES  0.056006     1  \n",
       "502     YES  0.059903     1  \n",
       "503     YES  0.057572     1  \n",
       "504     YES  0.060694     1  \n",
       "505     YES  0.060336     1  "
      ]
     },
     "execution_count": 4,
     "metadata": {},
     "output_type": "execute_result"
    }
   ],
   "source": [
    "# Display last five observations using tail()\n",
    "df_house_price.tail()"
   ]
  },
  {
   "cell_type": "markdown",
   "id": "29559ec8-c2a8-4688-b583-67b5b8ee48f6",
   "metadata": {},
   "source": [
    "### Data Overview"
   ]
  },
  {
   "cell_type": "code",
   "execution_count": 5,
   "id": "bfbb84a7-1046-490b-ba6b-fae2cc005745",
   "metadata": {},
   "outputs": [
    {
     "data": {
      "text/plain": [
       "Index(['price', 'resid_area', 'air_qual', 'room_num', 'age', 'distance',\n",
       "       'teachers', 'poor_prop', 'airport', 'n_hos_beds', 'n_hot_rooms',\n",
       "       'waterbody', 'rainfall', 'bus_ter', 'parks', 'Sold'],\n",
       "      dtype='object')"
      ]
     },
     "execution_count": 5,
     "metadata": {},
     "output_type": "execute_result"
    }
   ],
   "source": [
    "# Name the columns\n",
    "df_house_price.columns"
   ]
  },
  {
   "cell_type": "markdown",
   "id": "4dc83d94-0317-4165-8e64-031e06f7d715",
   "metadata": {},
   "source": [
    "**Interpretation**\n",
    "\n",
    " - **`price`**: Price of the house.\n",
    " - **`resid_area`**: Residential area where my house is located.\n",
    " - **`air_qual`**: Air Quality in that area.\n",
    " - **`room_num`**: Average number of rooms in houses of that locality.\n",
    " - **`age`**: How old is the house construction in years.\n",
    " - **`distance`**: Distance of that house from employment hub.\n",
    " - **`teachers`**: Number of teachers per 1000 people in that town.\n",
    " - **`poor_prop`**: Proportion of poor population in that town.\n",
    " - **`airport`**: is there an airport in that city ? (yes/no).\n",
    " - **`n_hos_beds`**: Number of hospital beds per 1000 population in that town.\n",
    " - **`n_hot_rooms`**: Number of Hotel rooms per 1000 population in that town.\n",
    " - **`waterbody`**: What type of natural fresh water sources is there in the city (Lake/River/Both/None)\n",
    " - **`rainfall`**: The yearly average rainfall in centimeters in that town.\n",
    " - **`bus_ter`**: Is there a bus terminal in that neighbourhood ? (yes/no).\n",
    " - **`parks`**: Proportion of land assigned to parks and green areas in that town."
   ]
  },
  {
   "cell_type": "code",
   "execution_count": 6,
   "id": "cfcdffb9-f04e-4a80-97c0-67980a2e31d5",
   "metadata": {},
   "outputs": [
    {
     "name": "stdout",
     "output_type": "stream",
     "text": [
      "<class 'pandas.core.frame.DataFrame'>\n",
      "RangeIndex: 506 entries, 0 to 505\n",
      "Data columns (total 16 columns):\n",
      " #   Column       Non-Null Count  Dtype  \n",
      "---  ------       --------------  -----  \n",
      " 0   price        506 non-null    float64\n",
      " 1   resid_area   506 non-null    float64\n",
      " 2   air_qual     506 non-null    float64\n",
      " 3   room_num     506 non-null    float64\n",
      " 4   age          506 non-null    float64\n",
      " 5   distance     506 non-null    float64\n",
      " 6   teachers     506 non-null    float64\n",
      " 7   poor_prop    506 non-null    float64\n",
      " 8   airport      506 non-null    object \n",
      " 9   n_hos_beds   498 non-null    float64\n",
      " 10  n_hot_rooms  506 non-null    float64\n",
      " 11  waterbody    351 non-null    object \n",
      " 12  rainfall     506 non-null    int64  \n",
      " 13  bus_ter      506 non-null    object \n",
      " 14  parks        506 non-null    float64\n",
      " 15  Sold         506 non-null    int64  \n",
      "dtypes: float64(11), int64(2), object(3)\n",
      "memory usage: 63.4+ KB\n"
     ]
    }
   ],
   "source": [
    "# Basic info of the dataset\n",
    "df_house_price.info()"
   ]
  },
  {
   "cell_type": "markdown",
   "id": "a6925e12-6419-4ff0-9e22-08353698ba56",
   "metadata": {},
   "source": [
    "**Interpretation**\n",
    "\n",
    "- We have total 16 columns in our data.\n",
    "- We have 13 numerical columns and 3 categorical columns.\n",
    "- We have NULL values in two columns `n_hos_beds` and `waterbody`."
   ]
  },
  {
   "cell_type": "code",
   "execution_count": 7,
   "id": "ae61453f-536c-411a-aee3-196e89d4f4dc",
   "metadata": {},
   "outputs": [
    {
     "data": {
      "text/plain": [
       "(506, 16)"
      ]
     },
     "execution_count": 7,
     "metadata": {},
     "output_type": "execute_result"
    }
   ],
   "source": [
    "# Shape of the data \n",
    "df_house_price.shape"
   ]
  },
  {
   "cell_type": "markdown",
   "id": "6713f22c-f43f-4196-b530-882871c67ca9",
   "metadata": {},
   "source": [
    "**Interpretation**\n",
    "\n",
    "- We have 16 columns.\n",
    "- 506 obervations (meaning no. of rows)"
   ]
  },
  {
   "cell_type": "code",
   "execution_count": 8,
   "id": "2de55989-085f-43ce-9a9b-97ed90c549ef",
   "metadata": {},
   "outputs": [
    {
     "data": {
      "text/html": [
       "<div>\n",
       "<style scoped>\n",
       "    .dataframe tbody tr th:only-of-type {\n",
       "        vertical-align: middle;\n",
       "    }\n",
       "\n",
       "    .dataframe tbody tr th {\n",
       "        vertical-align: top;\n",
       "    }\n",
       "\n",
       "    .dataframe thead th {\n",
       "        text-align: right;\n",
       "    }\n",
       "</style>\n",
       "<table border=\"1\" class=\"dataframe\">\n",
       "  <thead>\n",
       "    <tr style=\"text-align: right;\">\n",
       "      <th></th>\n",
       "      <th>count</th>\n",
       "      <th>mean</th>\n",
       "      <th>std</th>\n",
       "      <th>min</th>\n",
       "      <th>25%</th>\n",
       "      <th>50%</th>\n",
       "      <th>75%</th>\n",
       "      <th>max</th>\n",
       "    </tr>\n",
       "  </thead>\n",
       "  <tbody>\n",
       "    <tr>\n",
       "      <th>price</th>\n",
       "      <td>506.0</td>\n",
       "      <td>22.528854</td>\n",
       "      <td>9.182176</td>\n",
       "      <td>5.000000</td>\n",
       "      <td>17.025000</td>\n",
       "      <td>21.200000</td>\n",
       "      <td>25.000000</td>\n",
       "      <td>50.000000</td>\n",
       "    </tr>\n",
       "    <tr>\n",
       "      <th>resid_area</th>\n",
       "      <td>506.0</td>\n",
       "      <td>41.136779</td>\n",
       "      <td>6.860353</td>\n",
       "      <td>30.460000</td>\n",
       "      <td>35.190000</td>\n",
       "      <td>39.690000</td>\n",
       "      <td>48.100000</td>\n",
       "      <td>57.740000</td>\n",
       "    </tr>\n",
       "    <tr>\n",
       "      <th>air_qual</th>\n",
       "      <td>506.0</td>\n",
       "      <td>0.554695</td>\n",
       "      <td>0.115878</td>\n",
       "      <td>0.385000</td>\n",
       "      <td>0.449000</td>\n",
       "      <td>0.538000</td>\n",
       "      <td>0.624000</td>\n",
       "      <td>0.871000</td>\n",
       "    </tr>\n",
       "    <tr>\n",
       "      <th>room_num</th>\n",
       "      <td>506.0</td>\n",
       "      <td>6.284634</td>\n",
       "      <td>0.702617</td>\n",
       "      <td>3.561000</td>\n",
       "      <td>5.885500</td>\n",
       "      <td>6.208500</td>\n",
       "      <td>6.623500</td>\n",
       "      <td>8.780000</td>\n",
       "    </tr>\n",
       "    <tr>\n",
       "      <th>age</th>\n",
       "      <td>506.0</td>\n",
       "      <td>68.574901</td>\n",
       "      <td>28.148861</td>\n",
       "      <td>2.900000</td>\n",
       "      <td>45.025000</td>\n",
       "      <td>77.500000</td>\n",
       "      <td>94.075000</td>\n",
       "      <td>100.000000</td>\n",
       "    </tr>\n",
       "    <tr>\n",
       "      <th>distance</th>\n",
       "      <td>506.0</td>\n",
       "      <td>3.971996</td>\n",
       "      <td>2.108532</td>\n",
       "      <td>1.130000</td>\n",
       "      <td>2.270000</td>\n",
       "      <td>3.385000</td>\n",
       "      <td>5.367500</td>\n",
       "      <td>12.320000</td>\n",
       "    </tr>\n",
       "    <tr>\n",
       "      <th>teachers</th>\n",
       "      <td>506.0</td>\n",
       "      <td>21.544466</td>\n",
       "      <td>2.164946</td>\n",
       "      <td>18.000000</td>\n",
       "      <td>19.800000</td>\n",
       "      <td>20.950000</td>\n",
       "      <td>22.600000</td>\n",
       "      <td>27.400000</td>\n",
       "    </tr>\n",
       "    <tr>\n",
       "      <th>poor_prop</th>\n",
       "      <td>506.0</td>\n",
       "      <td>12.653063</td>\n",
       "      <td>7.141062</td>\n",
       "      <td>1.730000</td>\n",
       "      <td>6.950000</td>\n",
       "      <td>11.360000</td>\n",
       "      <td>16.955000</td>\n",
       "      <td>37.970000</td>\n",
       "    </tr>\n",
       "    <tr>\n",
       "      <th>n_hos_beds</th>\n",
       "      <td>498.0</td>\n",
       "      <td>7.899767</td>\n",
       "      <td>1.476683</td>\n",
       "      <td>5.268000</td>\n",
       "      <td>6.634500</td>\n",
       "      <td>7.999000</td>\n",
       "      <td>9.088000</td>\n",
       "      <td>10.876000</td>\n",
       "    </tr>\n",
       "    <tr>\n",
       "      <th>n_hot_rooms</th>\n",
       "      <td>506.0</td>\n",
       "      <td>13.041605</td>\n",
       "      <td>5.238957</td>\n",
       "      <td>10.057600</td>\n",
       "      <td>11.189800</td>\n",
       "      <td>12.720000</td>\n",
       "      <td>14.170800</td>\n",
       "      <td>101.120000</td>\n",
       "    </tr>\n",
       "    <tr>\n",
       "      <th>rainfall</th>\n",
       "      <td>506.0</td>\n",
       "      <td>39.181818</td>\n",
       "      <td>12.513697</td>\n",
       "      <td>3.000000</td>\n",
       "      <td>28.000000</td>\n",
       "      <td>39.000000</td>\n",
       "      <td>50.000000</td>\n",
       "      <td>60.000000</td>\n",
       "    </tr>\n",
       "    <tr>\n",
       "      <th>parks</th>\n",
       "      <td>506.0</td>\n",
       "      <td>0.054454</td>\n",
       "      <td>0.010632</td>\n",
       "      <td>0.033292</td>\n",
       "      <td>0.046464</td>\n",
       "      <td>0.053507</td>\n",
       "      <td>0.061397</td>\n",
       "      <td>0.086711</td>\n",
       "    </tr>\n",
       "    <tr>\n",
       "      <th>Sold</th>\n",
       "      <td>506.0</td>\n",
       "      <td>0.454545</td>\n",
       "      <td>0.498422</td>\n",
       "      <td>0.000000</td>\n",
       "      <td>0.000000</td>\n",
       "      <td>0.000000</td>\n",
       "      <td>1.000000</td>\n",
       "      <td>1.000000</td>\n",
       "    </tr>\n",
       "  </tbody>\n",
       "</table>\n",
       "</div>"
      ],
      "text/plain": [
       "             count       mean        std        min        25%        50%  \\\n",
       "price        506.0  22.528854   9.182176   5.000000  17.025000  21.200000   \n",
       "resid_area   506.0  41.136779   6.860353  30.460000  35.190000  39.690000   \n",
       "air_qual     506.0   0.554695   0.115878   0.385000   0.449000   0.538000   \n",
       "room_num     506.0   6.284634   0.702617   3.561000   5.885500   6.208500   \n",
       "age          506.0  68.574901  28.148861   2.900000  45.025000  77.500000   \n",
       "distance     506.0   3.971996   2.108532   1.130000   2.270000   3.385000   \n",
       "teachers     506.0  21.544466   2.164946  18.000000  19.800000  20.950000   \n",
       "poor_prop    506.0  12.653063   7.141062   1.730000   6.950000  11.360000   \n",
       "n_hos_beds   498.0   7.899767   1.476683   5.268000   6.634500   7.999000   \n",
       "n_hot_rooms  506.0  13.041605   5.238957  10.057600  11.189800  12.720000   \n",
       "rainfall     506.0  39.181818  12.513697   3.000000  28.000000  39.000000   \n",
       "parks        506.0   0.054454   0.010632   0.033292   0.046464   0.053507   \n",
       "Sold         506.0   0.454545   0.498422   0.000000   0.000000   0.000000   \n",
       "\n",
       "                   75%         max  \n",
       "price        25.000000   50.000000  \n",
       "resid_area   48.100000   57.740000  \n",
       "air_qual      0.624000    0.871000  \n",
       "room_num      6.623500    8.780000  \n",
       "age          94.075000  100.000000  \n",
       "distance      5.367500   12.320000  \n",
       "teachers     22.600000   27.400000  \n",
       "poor_prop    16.955000   37.970000  \n",
       "n_hos_beds    9.088000   10.876000  \n",
       "n_hot_rooms  14.170800  101.120000  \n",
       "rainfall     50.000000   60.000000  \n",
       "parks         0.061397    0.086711  \n",
       "Sold          1.000000    1.000000  "
      ]
     },
     "execution_count": 8,
     "metadata": {},
     "output_type": "execute_result"
    }
   ],
   "source": [
    "# Summarize Basic statistics of the data.\n",
    "\n",
    "df_house_price.describe().T"
   ]
  },
  {
   "cell_type": "markdown",
   "id": "87322bba-90c3-4bfb-9afa-9161aea5f841",
   "metadata": {},
   "source": [
    "**Interpretation**\n",
    "\n",
    "- Number of rows for each column is `506` but `498` 'for n_hos_beds'.\n",
    "- There are outliers present in age column.\n",
    "- Average price of the houses is 22.54 lakhs."
   ]
  },
  {
   "cell_type": "markdown",
   "id": "aa1c0145-5a3b-4622-8b41-d9be983af860",
   "metadata": {},
   "source": [
    "### Data preprocessing"
   ]
  },
  {
   "cell_type": "markdown",
   "id": "1bb646b9-5600-490f-9527-305379d9631c",
   "metadata": {},
   "source": [
    "#### a. Data Cleaning"
   ]
  },
  {
   "cell_type": "code",
   "execution_count": 9,
   "id": "04326194-3870-4495-9620-9d5d3223b09e",
   "metadata": {},
   "outputs": [
    {
     "data": {
      "text/html": [
       "<div>\n",
       "<style scoped>\n",
       "    .dataframe tbody tr th:only-of-type {\n",
       "        vertical-align: middle;\n",
       "    }\n",
       "\n",
       "    .dataframe tbody tr th {\n",
       "        vertical-align: top;\n",
       "    }\n",
       "\n",
       "    .dataframe thead th {\n",
       "        text-align: right;\n",
       "    }\n",
       "</style>\n",
       "<table border=\"1\" class=\"dataframe\">\n",
       "  <thead>\n",
       "    <tr style=\"text-align: right;\">\n",
       "      <th></th>\n",
       "      <th>price</th>\n",
       "      <th>resid_area</th>\n",
       "      <th>air_qual</th>\n",
       "      <th>room_num</th>\n",
       "      <th>age</th>\n",
       "      <th>distance</th>\n",
       "      <th>teachers</th>\n",
       "      <th>poor_prop</th>\n",
       "      <th>airport</th>\n",
       "      <th>n_hos_beds</th>\n",
       "      <th>n_hot_rooms</th>\n",
       "      <th>waterbody</th>\n",
       "      <th>rainfall</th>\n",
       "      <th>bus_ter</th>\n",
       "      <th>parks</th>\n",
       "      <th>Sold</th>\n",
       "    </tr>\n",
       "  </thead>\n",
       "  <tbody>\n",
       "    <tr>\n",
       "      <th>0</th>\n",
       "      <td>24.0</td>\n",
       "      <td>32.31</td>\n",
       "      <td>0.538</td>\n",
       "      <td>6.575</td>\n",
       "      <td>65.2</td>\n",
       "      <td>4.35</td>\n",
       "      <td>24.7</td>\n",
       "      <td>4.98</td>\n",
       "      <td>YES</td>\n",
       "      <td>5.480</td>\n",
       "      <td>11.1920</td>\n",
       "      <td>River</td>\n",
       "      <td>23</td>\n",
       "      <td>YES</td>\n",
       "      <td>0.049347</td>\n",
       "      <td>0</td>\n",
       "    </tr>\n",
       "    <tr>\n",
       "      <th>1</th>\n",
       "      <td>21.6</td>\n",
       "      <td>37.07</td>\n",
       "      <td>0.469</td>\n",
       "      <td>6.421</td>\n",
       "      <td>78.9</td>\n",
       "      <td>4.99</td>\n",
       "      <td>22.2</td>\n",
       "      <td>9.14</td>\n",
       "      <td>NO</td>\n",
       "      <td>7.332</td>\n",
       "      <td>12.1728</td>\n",
       "      <td>Lake</td>\n",
       "      <td>42</td>\n",
       "      <td>YES</td>\n",
       "      <td>0.046146</td>\n",
       "      <td>1</td>\n",
       "    </tr>\n",
       "    <tr>\n",
       "      <th>2</th>\n",
       "      <td>34.7</td>\n",
       "      <td>37.07</td>\n",
       "      <td>0.469</td>\n",
       "      <td>7.185</td>\n",
       "      <td>61.1</td>\n",
       "      <td>5.03</td>\n",
       "      <td>22.2</td>\n",
       "      <td>4.03</td>\n",
       "      <td>NO</td>\n",
       "      <td>7.394</td>\n",
       "      <td>101.1200</td>\n",
       "      <td>NaN</td>\n",
       "      <td>38</td>\n",
       "      <td>YES</td>\n",
       "      <td>0.045764</td>\n",
       "      <td>0</td>\n",
       "    </tr>\n",
       "    <tr>\n",
       "      <th>3</th>\n",
       "      <td>33.4</td>\n",
       "      <td>32.18</td>\n",
       "      <td>0.458</td>\n",
       "      <td>6.998</td>\n",
       "      <td>45.8</td>\n",
       "      <td>6.21</td>\n",
       "      <td>21.3</td>\n",
       "      <td>2.94</td>\n",
       "      <td>YES</td>\n",
       "      <td>9.268</td>\n",
       "      <td>11.2672</td>\n",
       "      <td>Lake</td>\n",
       "      <td>45</td>\n",
       "      <td>YES</td>\n",
       "      <td>0.047151</td>\n",
       "      <td>0</td>\n",
       "    </tr>\n",
       "    <tr>\n",
       "      <th>4</th>\n",
       "      <td>36.2</td>\n",
       "      <td>32.18</td>\n",
       "      <td>0.458</td>\n",
       "      <td>7.147</td>\n",
       "      <td>54.2</td>\n",
       "      <td>6.16</td>\n",
       "      <td>21.3</td>\n",
       "      <td>5.33</td>\n",
       "      <td>NO</td>\n",
       "      <td>8.824</td>\n",
       "      <td>11.2896</td>\n",
       "      <td>Lake</td>\n",
       "      <td>55</td>\n",
       "      <td>YES</td>\n",
       "      <td>0.039474</td>\n",
       "      <td>0</td>\n",
       "    </tr>\n",
       "  </tbody>\n",
       "</table>\n",
       "</div>"
      ],
      "text/plain": [
       "   price  resid_area  air_qual  room_num   age  distance  teachers  poor_prop  \\\n",
       "0   24.0       32.31     0.538     6.575  65.2      4.35      24.7       4.98   \n",
       "1   21.6       37.07     0.469     6.421  78.9      4.99      22.2       9.14   \n",
       "2   34.7       37.07     0.469     7.185  61.1      5.03      22.2       4.03   \n",
       "3   33.4       32.18     0.458     6.998  45.8      6.21      21.3       2.94   \n",
       "4   36.2       32.18     0.458     7.147  54.2      6.16      21.3       5.33   \n",
       "\n",
       "  airport  n_hos_beds  n_hot_rooms waterbody  rainfall bus_ter     parks  Sold  \n",
       "0     YES       5.480      11.1920     River        23     YES  0.049347     0  \n",
       "1      NO       7.332      12.1728      Lake        42     YES  0.046146     1  \n",
       "2      NO       7.394     101.1200       NaN        38     YES  0.045764     0  \n",
       "3     YES       9.268      11.2672      Lake        45     YES  0.047151     0  \n",
       "4      NO       8.824      11.2896      Lake        55     YES  0.039474     0  "
      ]
     },
     "execution_count": 9,
     "metadata": {},
     "output_type": "execute_result"
    }
   ],
   "source": [
    "# Show the first five observations\n",
    "\n",
    "df_house_price.head()"
   ]
  },
  {
   "cell_type": "code",
   "execution_count": 10,
   "id": "35915fd0-6e52-491c-a198-31525bccf31b",
   "metadata": {},
   "outputs": [
    {
     "data": {
      "text/plain": [
       "Index(['price', 'resid_area', 'air_qual', 'room_num', 'age', 'distance',\n",
       "       'teachers', 'poor_prop', 'airport', 'n_hos_beds', 'n_hot_rooms',\n",
       "       'waterbody', 'rainfall', 'bus_ter', 'parks', 'Sold'],\n",
       "      dtype='object')"
      ]
     },
     "execution_count": 10,
     "metadata": {},
     "output_type": "execute_result"
    }
   ],
   "source": [
    "# Rename the columns\n",
    "\n",
    "# step-1: Show the column names\n",
    "df_house_price.columns"
   ]
  },
  {
   "cell_type": "code",
   "execution_count": 11,
   "id": "34829604-9817-4dff-8b93-ee7779d4023f",
   "metadata": {},
   "outputs": [],
   "source": [
    "# step-2: Allocate new column names to old column names\n",
    "# make the dictionary {'Old column name': 'New column name'}\n",
    "\n",
    "d1 = {'price': 'Price',\n",
    "      'resid_area': 'Residential_Area',\n",
    "      'air_qual': 'Air_Quality',\n",
    "      'room_num': 'Room_Number',\n",
    "      'age': 'Age',\n",
    "      'distance': 'Distance',\n",
    "      'teachers': 'Teachers',\n",
    "      'poor_prop': 'Proportion_of_Poor_Population',\n",
    "      'airport': 'Airport',\n",
    "      'n_hos_beds': 'Number_of_Hospital_Beds',\n",
    "      'n_hot_rooms': 'Number_of_Hotel_Rooms',\n",
    "      'waterbody': 'Water_Body',\n",
    "      'rainfall': 'Rainfall',\n",
    "      'bus_ter': 'Bus_Terminal',\n",
    "      'parks': 'Parks',\n",
    "      'Sold': 'Sold'}"
   ]
  },
  {
   "cell_type": "code",
   "execution_count": 12,
   "id": "f2950f99-92c1-4997-88e2-0f946618c565",
   "metadata": {},
   "outputs": [],
   "source": [
    "df_house_price_1 = df_house_price.rename(columns = d1)"
   ]
  },
  {
   "cell_type": "code",
   "execution_count": 13,
   "id": "c919eca6-142f-48ee-89a6-e99ce4972cd6",
   "metadata": {},
   "outputs": [
    {
     "data": {
      "text/plain": [
       "Index(['Price', 'Residential_Area', 'Air_Quality', 'Room_Number', 'Age',\n",
       "       'Distance', 'Teachers', 'Proportion_of_Poor_Population', 'Airport',\n",
       "       'Number_of_Hospital_Beds', 'Number_of_Hotel_Rooms', 'Water_Body',\n",
       "       'Rainfall', 'Bus_Terminal', 'Parks', 'Sold'],\n",
       "      dtype='object')"
      ]
     },
     "execution_count": 13,
     "metadata": {},
     "output_type": "execute_result"
    }
   ],
   "source": [
    "# Authenticate the data\n",
    "\n",
    "df_house_price_1.columns"
   ]
  },
  {
   "cell_type": "markdown",
   "id": "c8ea9daf-6465-42de-a9f7-66db2c89d1f1",
   "metadata": {},
   "source": [
    "#### b. Null value handling"
   ]
  },
  {
   "cell_type": "raw",
   "id": "b5c5a1f8-1472-4be3-bfeb-664d1daa0f6d",
   "metadata": {},
   "source": [
    "Laws that we need to follow while processing the null values (Specially Manufacturing)\n",
    "\n",
    " - When we have less than 15% data missing-> We remove the observations.\n",
    " - Between 20% to 70% data is missing-> We Impute the null values.\n",
    " - Greater than 75% data is missing-> We remove the column."
   ]
  },
  {
   "cell_type": "code",
   "execution_count": 14,
   "id": "49617aca-2f0a-49ca-b02d-0e06fe783a6d",
   "metadata": {},
   "outputs": [
    {
     "data": {
      "text/plain": [
       "Price                              0\n",
       "Residential_Area                   0\n",
       "Air_Quality                        0\n",
       "Room_Number                        0\n",
       "Age                                0\n",
       "Distance                           0\n",
       "Teachers                           0\n",
       "Proportion_of_Poor_Population      0\n",
       "Airport                            0\n",
       "Number_of_Hospital_Beds            8\n",
       "Number_of_Hotel_Rooms              0\n",
       "Water_Body                       155\n",
       "Rainfall                           0\n",
       "Bus_Terminal                       0\n",
       "Parks                              0\n",
       "Sold                               0\n",
       "dtype: int64"
      ]
     },
     "execution_count": 14,
     "metadata": {},
     "output_type": "execute_result"
    }
   ],
   "source": [
    "# Find the valid null values\n",
    "df_house_price_1.isnull().sum()"
   ]
  },
  {
   "cell_type": "code",
   "execution_count": 15,
   "id": "47f15d33-431b-4202-9b80-9e594cafe42b",
   "metadata": {},
   "outputs": [
    {
     "data": {
      "text/plain": [
       "Price                             0.000\n",
       "Residential_Area                  0.000\n",
       "Air_Quality                       0.000\n",
       "Room_Number                       0.000\n",
       "Age                               0.000\n",
       "Distance                          0.000\n",
       "Teachers                          0.000\n",
       "Proportion_of_Poor_Population     0.000\n",
       "Airport                           0.000\n",
       "Number_of_Hospital_Beds           1.581\n",
       "Number_of_Hotel_Rooms             0.000\n",
       "Water_Body                       30.632\n",
       "Rainfall                          0.000\n",
       "Bus_Terminal                      0.000\n",
       "Parks                             0.000\n",
       "Sold                              0.000\n",
       "dtype: float64"
      ]
     },
     "execution_count": 15,
     "metadata": {},
     "output_type": "execute_result"
    }
   ],
   "source": [
    "# percentage missing values\n",
    "round((df_house_price_1.isnull().sum())/len(df_house_price_1)*100, 3)\n",
    "\n",
    "# Start treating the null values according to which  column has most null values."
   ]
  },
  {
   "cell_type": "code",
   "execution_count": 16,
   "id": "d06f4141-45c1-4dc7-bbb0-ad3086337d93",
   "metadata": {},
   "outputs": [
    {
     "data": {
      "text/plain": [
       "Price                             0.000\n",
       "Residential_Area                  0.000\n",
       "Air_Quality                       0.000\n",
       "Room_Number                       0.000\n",
       "Age                               0.000\n",
       "Distance                          0.000\n",
       "Teachers                          0.000\n",
       "Proportion_of_Poor_Population     0.000\n",
       "Airport                           0.000\n",
       "Number_of_Hospital_Beds           1.581\n",
       "Number_of_Hotel_Rooms             0.000\n",
       "Water_Body                       30.632\n",
       "Rainfall                          0.000\n",
       "Bus_Terminal                      0.000\n",
       "Parks                             0.000\n",
       "Sold                              0.000\n",
       "dtype: float64"
      ]
     },
     "execution_count": 16,
     "metadata": {},
     "output_type": "execute_result"
    }
   ],
   "source": [
    "# Tried to check my concept\n",
    "\n",
    "round(((df_house_price_1.isnull().sum())*100)/len(df_house_price_1),3)"
   ]
  },
  {
   "cell_type": "code",
   "execution_count": 17,
   "id": "15a74839-4160-4178-a6d0-96ac498b93bb",
   "metadata": {},
   "outputs": [
    {
     "name": "stdout",
     "output_type": "stream",
     "text": [
      "<class 'pandas.core.frame.DataFrame'>\n",
      "RangeIndex: 506 entries, 0 to 505\n",
      "Data columns (total 16 columns):\n",
      " #   Column                         Non-Null Count  Dtype  \n",
      "---  ------                         --------------  -----  \n",
      " 0   Price                          506 non-null    float64\n",
      " 1   Residential_Area               506 non-null    float64\n",
      " 2   Air_Quality                    506 non-null    float64\n",
      " 3   Room_Number                    506 non-null    float64\n",
      " 4   Age                            506 non-null    float64\n",
      " 5   Distance                       506 non-null    float64\n",
      " 6   Teachers                       506 non-null    float64\n",
      " 7   Proportion_of_Poor_Population  506 non-null    float64\n",
      " 8   Airport                        506 non-null    object \n",
      " 9   Number_of_Hospital_Beds        498 non-null    float64\n",
      " 10  Number_of_Hotel_Rooms          506 non-null    float64\n",
      " 11  Water_Body                     351 non-null    object \n",
      " 12  Rainfall                       506 non-null    int64  \n",
      " 13  Bus_Terminal                   506 non-null    object \n",
      " 14  Parks                          506 non-null    float64\n",
      " 15  Sold                           506 non-null    int64  \n",
      "dtypes: float64(11), int64(2), object(3)\n",
      "memory usage: 63.4+ KB\n"
     ]
    }
   ],
   "source": [
    "# Find the nature of the column\n",
    "df_house_price_1.info()"
   ]
  },
  {
   "cell_type": "code",
   "execution_count": 18,
   "id": "2de56871-b145-4f81-bde0-89a828c27327",
   "metadata": {},
   "outputs": [
    {
     "data": {
      "text/plain": [
       "0    River\n",
       "Name: Water_Body, dtype: object"
      ]
     },
     "execution_count": 18,
     "metadata": {},
     "output_type": "execute_result"
    }
   ],
   "source": [
    "# This(Water_Body) is a categorical column so we can replace the null values with mode\n",
    "\n",
    "df_house_price_1.Water_Body.mode()"
   ]
  },
  {
   "cell_type": "code",
   "execution_count": 19,
   "id": "18365e22-ee32-4904-bf38-bb9dab04ca7d",
   "metadata": {},
   "outputs": [],
   "source": [
    "# Replace the null in that column\n",
    "\n",
    "df_house_price_1.Water_Body = df_house_price_1.Water_Body.fillna('River')"
   ]
  },
  {
   "cell_type": "code",
   "execution_count": 20,
   "id": "1300de15-e655-4e99-a5c7-8f1138351fda",
   "metadata": {},
   "outputs": [
    {
     "data": {
      "text/plain": [
       "Price                            0.000\n",
       "Residential_Area                 0.000\n",
       "Air_Quality                      0.000\n",
       "Room_Number                      0.000\n",
       "Age                              0.000\n",
       "Distance                         0.000\n",
       "Teachers                         0.000\n",
       "Proportion_of_Poor_Population    0.000\n",
       "Airport                          0.000\n",
       "Number_of_Hospital_Beds          1.581\n",
       "Number_of_Hotel_Rooms            0.000\n",
       "Water_Body                       0.000\n",
       "Rainfall                         0.000\n",
       "Bus_Terminal                     0.000\n",
       "Parks                            0.000\n",
       "Sold                             0.000\n",
       "dtype: float64"
      ]
     },
     "execution_count": 20,
     "metadata": {},
     "output_type": "execute_result"
    }
   ],
   "source": [
    "# Authenticate the updated data\n",
    "\n",
    "# percentage missing values\n",
    "round((df_house_price_1.isnull().sum())/len(df_house_price_1)*100, 3)"
   ]
  },
  {
   "cell_type": "code",
   "execution_count": 21,
   "id": "0722c432-6772-4651-b86d-beebf1b5bd0b",
   "metadata": {},
   "outputs": [],
   "source": [
    "# Now second column 'Number_of_Hospital_Beds' contain less 10% missing record so we can drop the null values\n",
    "\n",
    "df_house_price_1.dropna(inplace = True)"
   ]
  },
  {
   "cell_type": "code",
   "execution_count": 22,
   "id": "add2e45f-eca9-4eb9-9380-9f17ffd22b72",
   "metadata": {},
   "outputs": [
    {
     "data": {
      "text/plain": [
       "Price                            0.0\n",
       "Residential_Area                 0.0\n",
       "Air_Quality                      0.0\n",
       "Room_Number                      0.0\n",
       "Age                              0.0\n",
       "Distance                         0.0\n",
       "Teachers                         0.0\n",
       "Proportion_of_Poor_Population    0.0\n",
       "Airport                          0.0\n",
       "Number_of_Hospital_Beds          0.0\n",
       "Number_of_Hotel_Rooms            0.0\n",
       "Water_Body                       0.0\n",
       "Rainfall                         0.0\n",
       "Bus_Terminal                     0.0\n",
       "Parks                            0.0\n",
       "Sold                             0.0\n",
       "dtype: float64"
      ]
     },
     "execution_count": 22,
     "metadata": {},
     "output_type": "execute_result"
    }
   ],
   "source": [
    "# Authenticate the updated data\n",
    "\n",
    "# percentage missing values\n",
    "round((df_house_price_1.isnull().sum())/len(df_house_price_1)*100, 3)"
   ]
  },
  {
   "cell_type": "markdown",
   "id": "7828ed48-a015-47c8-8fd2-d4e565bac6da",
   "metadata": {},
   "source": [
    "## Prepare data for machine learning."
   ]
  },
  {
   "cell_type": "code",
   "execution_count": 23,
   "id": "e3474a9c-1e28-4bdb-919d-2f54a16bf496",
   "metadata": {},
   "outputs": [
    {
     "data": {
      "text/plain": [
       "Index(['Airport', 'Water_Body', 'Bus_Terminal'], dtype='object')"
      ]
     },
     "execution_count": 23,
     "metadata": {},
     "output_type": "execute_result"
    }
   ],
   "source": [
    "# We Know that Machine Learning Algorithms are Mathematical Expression.\n",
    "# So we need to provide the data to the algorithm in specific format\n",
    "# Encoding\n",
    "\n",
    "# Step 1 : Divide the data Based on their Datatypes\n",
    "\n",
    "df_cat = df_house_price_1.select_dtypes(include = ['object'])\n",
    "\n",
    "# display categorical features\n",
    "df_cat.columns"
   ]
  },
  {
   "cell_type": "code",
   "execution_count": 24,
   "id": "e36b16e1-2f28-46ae-830a-447523a8956b",
   "metadata": {},
   "outputs": [
    {
     "data": {
      "text/html": [
       "<div>\n",
       "<style scoped>\n",
       "    .dataframe tbody tr th:only-of-type {\n",
       "        vertical-align: middle;\n",
       "    }\n",
       "\n",
       "    .dataframe tbody tr th {\n",
       "        vertical-align: top;\n",
       "    }\n",
       "\n",
       "    .dataframe thead th {\n",
       "        text-align: right;\n",
       "    }\n",
       "</style>\n",
       "<table border=\"1\" class=\"dataframe\">\n",
       "  <thead>\n",
       "    <tr style=\"text-align: right;\">\n",
       "      <th></th>\n",
       "      <th>index</th>\n",
       "      <th>Airport_YES</th>\n",
       "      <th>Water_Body_Lake and River</th>\n",
       "      <th>Water_Body_River</th>\n",
       "    </tr>\n",
       "  </thead>\n",
       "  <tbody>\n",
       "    <tr>\n",
       "      <th>0</th>\n",
       "      <td>0</td>\n",
       "      <td>True</td>\n",
       "      <td>False</td>\n",
       "      <td>True</td>\n",
       "    </tr>\n",
       "    <tr>\n",
       "      <th>1</th>\n",
       "      <td>1</td>\n",
       "      <td>False</td>\n",
       "      <td>False</td>\n",
       "      <td>False</td>\n",
       "    </tr>\n",
       "    <tr>\n",
       "      <th>2</th>\n",
       "      <td>2</td>\n",
       "      <td>False</td>\n",
       "      <td>False</td>\n",
       "      <td>True</td>\n",
       "    </tr>\n",
       "    <tr>\n",
       "      <th>3</th>\n",
       "      <td>3</td>\n",
       "      <td>True</td>\n",
       "      <td>False</td>\n",
       "      <td>False</td>\n",
       "    </tr>\n",
       "    <tr>\n",
       "      <th>4</th>\n",
       "      <td>4</td>\n",
       "      <td>False</td>\n",
       "      <td>False</td>\n",
       "      <td>False</td>\n",
       "    </tr>\n",
       "    <tr>\n",
       "      <th>...</th>\n",
       "      <td>...</td>\n",
       "      <td>...</td>\n",
       "      <td>...</td>\n",
       "      <td>...</td>\n",
       "    </tr>\n",
       "    <tr>\n",
       "      <th>493</th>\n",
       "      <td>501</td>\n",
       "      <td>False</td>\n",
       "      <td>True</td>\n",
       "      <td>False</td>\n",
       "    </tr>\n",
       "    <tr>\n",
       "      <th>494</th>\n",
       "      <td>502</td>\n",
       "      <td>True</td>\n",
       "      <td>True</td>\n",
       "      <td>False</td>\n",
       "    </tr>\n",
       "    <tr>\n",
       "      <th>495</th>\n",
       "      <td>503</td>\n",
       "      <td>False</td>\n",
       "      <td>False</td>\n",
       "      <td>True</td>\n",
       "    </tr>\n",
       "    <tr>\n",
       "      <th>496</th>\n",
       "      <td>504</td>\n",
       "      <td>True</td>\n",
       "      <td>False</td>\n",
       "      <td>True</td>\n",
       "    </tr>\n",
       "    <tr>\n",
       "      <th>497</th>\n",
       "      <td>505</td>\n",
       "      <td>True</td>\n",
       "      <td>False</td>\n",
       "      <td>True</td>\n",
       "    </tr>\n",
       "  </tbody>\n",
       "</table>\n",
       "<p>498 rows × 4 columns</p>\n",
       "</div>"
      ],
      "text/plain": [
       "     index  Airport_YES  Water_Body_Lake and River  Water_Body_River\n",
       "0        0         True                      False              True\n",
       "1        1        False                      False             False\n",
       "2        2        False                      False              True\n",
       "3        3         True                      False             False\n",
       "4        4        False                      False             False\n",
       "..     ...          ...                        ...               ...\n",
       "493    501        False                       True             False\n",
       "494    502         True                       True             False\n",
       "495    503        False                      False              True\n",
       "496    504         True                      False              True\n",
       "497    505         True                      False              True\n",
       "\n",
       "[498 rows x 4 columns]"
      ]
     },
     "execution_count": 24,
     "metadata": {},
     "output_type": "execute_result"
    }
   ],
   "source": [
    "# use dummy encoding\n",
    "\n",
    "dummy_var = pd.get_dummies(data = df_cat, drop_first = True)\n",
    "dummy_var = dummy_var.reset_index()\n",
    "dummy_var"
   ]
  },
  {
   "cell_type": "code",
   "execution_count": 25,
   "id": "7e25edca-1143-4734-ba44-f838e0b2143d",
   "metadata": {},
   "outputs": [
    {
     "data": {
      "text/html": [
       "<div>\n",
       "<style scoped>\n",
       "    .dataframe tbody tr th:only-of-type {\n",
       "        vertical-align: middle;\n",
       "    }\n",
       "\n",
       "    .dataframe tbody tr th {\n",
       "        vertical-align: top;\n",
       "    }\n",
       "\n",
       "    .dataframe thead th {\n",
       "        text-align: right;\n",
       "    }\n",
       "</style>\n",
       "<table border=\"1\" class=\"dataframe\">\n",
       "  <thead>\n",
       "    <tr style=\"text-align: right;\">\n",
       "      <th></th>\n",
       "      <th>Airport_NO</th>\n",
       "      <th>Airport_YES</th>\n",
       "      <th>Water_Body_Lake</th>\n",
       "      <th>Water_Body_Lake and River</th>\n",
       "      <th>Water_Body_River</th>\n",
       "      <th>Bus_Terminal_YES</th>\n",
       "    </tr>\n",
       "  </thead>\n",
       "  <tbody>\n",
       "    <tr>\n",
       "      <th>0</th>\n",
       "      <td>False</td>\n",
       "      <td>True</td>\n",
       "      <td>False</td>\n",
       "      <td>False</td>\n",
       "      <td>True</td>\n",
       "      <td>True</td>\n",
       "    </tr>\n",
       "    <tr>\n",
       "      <th>1</th>\n",
       "      <td>True</td>\n",
       "      <td>False</td>\n",
       "      <td>True</td>\n",
       "      <td>False</td>\n",
       "      <td>False</td>\n",
       "      <td>True</td>\n",
       "    </tr>\n",
       "    <tr>\n",
       "      <th>2</th>\n",
       "      <td>True</td>\n",
       "      <td>False</td>\n",
       "      <td>False</td>\n",
       "      <td>False</td>\n",
       "      <td>True</td>\n",
       "      <td>True</td>\n",
       "    </tr>\n",
       "    <tr>\n",
       "      <th>3</th>\n",
       "      <td>False</td>\n",
       "      <td>True</td>\n",
       "      <td>True</td>\n",
       "      <td>False</td>\n",
       "      <td>False</td>\n",
       "      <td>True</td>\n",
       "    </tr>\n",
       "    <tr>\n",
       "      <th>4</th>\n",
       "      <td>True</td>\n",
       "      <td>False</td>\n",
       "      <td>True</td>\n",
       "      <td>False</td>\n",
       "      <td>False</td>\n",
       "      <td>True</td>\n",
       "    </tr>\n",
       "    <tr>\n",
       "      <th>...</th>\n",
       "      <td>...</td>\n",
       "      <td>...</td>\n",
       "      <td>...</td>\n",
       "      <td>...</td>\n",
       "      <td>...</td>\n",
       "      <td>...</td>\n",
       "    </tr>\n",
       "    <tr>\n",
       "      <th>501</th>\n",
       "      <td>True</td>\n",
       "      <td>False</td>\n",
       "      <td>False</td>\n",
       "      <td>True</td>\n",
       "      <td>False</td>\n",
       "      <td>True</td>\n",
       "    </tr>\n",
       "    <tr>\n",
       "      <th>502</th>\n",
       "      <td>False</td>\n",
       "      <td>True</td>\n",
       "      <td>False</td>\n",
       "      <td>True</td>\n",
       "      <td>False</td>\n",
       "      <td>True</td>\n",
       "    </tr>\n",
       "    <tr>\n",
       "      <th>503</th>\n",
       "      <td>True</td>\n",
       "      <td>False</td>\n",
       "      <td>False</td>\n",
       "      <td>False</td>\n",
       "      <td>True</td>\n",
       "      <td>True</td>\n",
       "    </tr>\n",
       "    <tr>\n",
       "      <th>504</th>\n",
       "      <td>False</td>\n",
       "      <td>True</td>\n",
       "      <td>False</td>\n",
       "      <td>False</td>\n",
       "      <td>True</td>\n",
       "      <td>True</td>\n",
       "    </tr>\n",
       "    <tr>\n",
       "      <th>505</th>\n",
       "      <td>False</td>\n",
       "      <td>True</td>\n",
       "      <td>False</td>\n",
       "      <td>False</td>\n",
       "      <td>True</td>\n",
       "      <td>True</td>\n",
       "    </tr>\n",
       "  </tbody>\n",
       "</table>\n",
       "<p>498 rows × 6 columns</p>\n",
       "</div>"
      ],
      "text/plain": [
       "     Airport_NO  Airport_YES  Water_Body_Lake  Water_Body_Lake and River  \\\n",
       "0         False         True            False                      False   \n",
       "1          True        False             True                      False   \n",
       "2          True        False            False                      False   \n",
       "3         False         True             True                      False   \n",
       "4          True        False             True                      False   \n",
       "..          ...          ...              ...                        ...   \n",
       "501        True        False            False                       True   \n",
       "502       False         True            False                       True   \n",
       "503        True        False            False                      False   \n",
       "504       False         True            False                      False   \n",
       "505       False         True            False                      False   \n",
       "\n",
       "     Water_Body_River  Bus_Terminal_YES  \n",
       "0                True              True  \n",
       "1               False              True  \n",
       "2                True              True  \n",
       "3               False              True  \n",
       "4               False              True  \n",
       "..                ...               ...  \n",
       "501             False              True  \n",
       "502             False              True  \n",
       "503              True              True  \n",
       "504              True              True  \n",
       "505              True              True  \n",
       "\n",
       "[498 rows x 6 columns]"
      ]
     },
     "execution_count": 25,
     "metadata": {},
     "output_type": "execute_result"
    }
   ],
   "source": [
    "# Just checking and exploring other methods\n",
    "\n",
    "dummy_var2 = pd.get_dummies(data = df_cat)\n",
    "dummy_var2"
   ]
  },
  {
   "cell_type": "code",
   "execution_count": 26,
   "id": "1c806c7f-0afc-428c-ac66-dd6685fbb692",
   "metadata": {},
   "outputs": [
    {
     "data": {
      "text/html": [
       "<div>\n",
       "<style scoped>\n",
       "    .dataframe tbody tr th:only-of-type {\n",
       "        vertical-align: middle;\n",
       "    }\n",
       "\n",
       "    .dataframe tbody tr th {\n",
       "        vertical-align: top;\n",
       "    }\n",
       "\n",
       "    .dataframe thead th {\n",
       "        text-align: right;\n",
       "    }\n",
       "</style>\n",
       "<table border=\"1\" class=\"dataframe\">\n",
       "  <thead>\n",
       "    <tr style=\"text-align: right;\">\n",
       "      <th></th>\n",
       "      <th>Price</th>\n",
       "      <th>Residential_Area</th>\n",
       "      <th>Air_Quality</th>\n",
       "      <th>Room_Number</th>\n",
       "      <th>Age</th>\n",
       "      <th>Distance</th>\n",
       "      <th>Teachers</th>\n",
       "      <th>Proportion_of_Poor_Population</th>\n",
       "      <th>Number_of_Hospital_Beds</th>\n",
       "      <th>Number_of_Hotel_Rooms</th>\n",
       "      <th>Rainfall</th>\n",
       "      <th>Parks</th>\n",
       "      <th>Sold</th>\n",
       "    </tr>\n",
       "  </thead>\n",
       "  <tbody>\n",
       "    <tr>\n",
       "      <th>0</th>\n",
       "      <td>24.0</td>\n",
       "      <td>32.31</td>\n",
       "      <td>0.538</td>\n",
       "      <td>6.575</td>\n",
       "      <td>65.2</td>\n",
       "      <td>4.35</td>\n",
       "      <td>24.7</td>\n",
       "      <td>4.98</td>\n",
       "      <td>5.480</td>\n",
       "      <td>11.1920</td>\n",
       "      <td>23</td>\n",
       "      <td>0.049347</td>\n",
       "      <td>0</td>\n",
       "    </tr>\n",
       "    <tr>\n",
       "      <th>1</th>\n",
       "      <td>21.6</td>\n",
       "      <td>37.07</td>\n",
       "      <td>0.469</td>\n",
       "      <td>6.421</td>\n",
       "      <td>78.9</td>\n",
       "      <td>4.99</td>\n",
       "      <td>22.2</td>\n",
       "      <td>9.14</td>\n",
       "      <td>7.332</td>\n",
       "      <td>12.1728</td>\n",
       "      <td>42</td>\n",
       "      <td>0.046146</td>\n",
       "      <td>1</td>\n",
       "    </tr>\n",
       "    <tr>\n",
       "      <th>2</th>\n",
       "      <td>34.7</td>\n",
       "      <td>37.07</td>\n",
       "      <td>0.469</td>\n",
       "      <td>7.185</td>\n",
       "      <td>61.1</td>\n",
       "      <td>5.03</td>\n",
       "      <td>22.2</td>\n",
       "      <td>4.03</td>\n",
       "      <td>7.394</td>\n",
       "      <td>101.1200</td>\n",
       "      <td>38</td>\n",
       "      <td>0.045764</td>\n",
       "      <td>0</td>\n",
       "    </tr>\n",
       "    <tr>\n",
       "      <th>3</th>\n",
       "      <td>33.4</td>\n",
       "      <td>32.18</td>\n",
       "      <td>0.458</td>\n",
       "      <td>6.998</td>\n",
       "      <td>45.8</td>\n",
       "      <td>6.21</td>\n",
       "      <td>21.3</td>\n",
       "      <td>2.94</td>\n",
       "      <td>9.268</td>\n",
       "      <td>11.2672</td>\n",
       "      <td>45</td>\n",
       "      <td>0.047151</td>\n",
       "      <td>0</td>\n",
       "    </tr>\n",
       "    <tr>\n",
       "      <th>4</th>\n",
       "      <td>36.2</td>\n",
       "      <td>32.18</td>\n",
       "      <td>0.458</td>\n",
       "      <td>7.147</td>\n",
       "      <td>54.2</td>\n",
       "      <td>6.16</td>\n",
       "      <td>21.3</td>\n",
       "      <td>5.33</td>\n",
       "      <td>8.824</td>\n",
       "      <td>11.2896</td>\n",
       "      <td>55</td>\n",
       "      <td>0.039474</td>\n",
       "      <td>0</td>\n",
       "    </tr>\n",
       "  </tbody>\n",
       "</table>\n",
       "</div>"
      ],
      "text/plain": [
       "   Price  Residential_Area  Air_Quality  Room_Number   Age  Distance  \\\n",
       "0   24.0             32.31        0.538        6.575  65.2      4.35   \n",
       "1   21.6             37.07        0.469        6.421  78.9      4.99   \n",
       "2   34.7             37.07        0.469        7.185  61.1      5.03   \n",
       "3   33.4             32.18        0.458        6.998  45.8      6.21   \n",
       "4   36.2             32.18        0.458        7.147  54.2      6.16   \n",
       "\n",
       "   Teachers  Proportion_of_Poor_Population  Number_of_Hospital_Beds  \\\n",
       "0      24.7                           4.98                    5.480   \n",
       "1      22.2                           9.14                    7.332   \n",
       "2      22.2                           4.03                    7.394   \n",
       "3      21.3                           2.94                    9.268   \n",
       "4      21.3                           5.33                    8.824   \n",
       "\n",
       "   Number_of_Hotel_Rooms  Rainfall     Parks  Sold  \n",
       "0                11.1920        23  0.049347     0  \n",
       "1                12.1728        42  0.046146     1  \n",
       "2               101.1200        38  0.045764     0  \n",
       "3                11.2672        45  0.047151     0  \n",
       "4                11.2896        55  0.039474     0  "
      ]
     },
     "execution_count": 26,
     "metadata": {},
     "output_type": "execute_result"
    }
   ],
   "source": [
    "# Using Scaling\n",
    "\n",
    "# filter the numerical features in the dataset\n",
    "df_num = df_house_price_1.select_dtypes(include = [np.number])\n",
    "\n",
    "# display numerical features\n",
    "df_num.head()"
   ]
  },
  {
   "cell_type": "code",
   "execution_count": 27,
   "id": "ebfb7114-0ffa-4e26-b7f8-b8fe68be7270",
   "metadata": {},
   "outputs": [],
   "source": [
    "from sklearn.preprocessing import StandardScaler"
   ]
  },
  {
   "cell_type": "code",
   "execution_count": 28,
   "id": "c726cdc3-64e5-4940-a688-b7383ee5ac0c",
   "metadata": {},
   "outputs": [],
   "source": [
    "df_target = df_house_price_1['Price']\n",
    "\n",
    "# 'axis = 1' specifies to drop only the specified column\n",
    "df_num = df_num.drop('Price',axis = 1)"
   ]
  },
  {
   "cell_type": "code",
   "execution_count": 29,
   "id": "da543de8-3993-4220-840c-bb37502040cc",
   "metadata": {},
   "outputs": [],
   "source": [
    "# Initiate the StandardScalar\n",
    "\n",
    "ss = StandardScaler()"
   ]
  },
  {
   "cell_type": "code",
   "execution_count": 30,
   "id": "a3531ccf-4168-4eb0-b356-318456f59d3c",
   "metadata": {},
   "outputs": [],
   "source": [
    "# Transform the data\n",
    "\n",
    "scale = ss.fit_transform(df_num)"
   ]
  },
  {
   "cell_type": "code",
   "execution_count": 31,
   "id": "86fd56d4-c79b-40ac-a08e-49efedd3fe8c",
   "metadata": {},
   "outputs": [
    {
     "name": "stdout",
     "output_type": "stream",
     "text": [
      "[[-1.28244435 -0.13709359  0.40897478 ... -1.30206786 -0.47313205\n",
      "  -0.91152748]\n",
      " [-0.59005882 -0.73319492  0.18997385 ...  0.21519397 -0.77522463\n",
      "   1.09705963]\n",
      " [-0.59005882 -0.73319492  1.276446   ... -0.10422957 -0.81123666\n",
      "  -0.91152748]\n",
      " ...\n",
      " [ 0.11687263  0.16527665  0.97923045 ... -0.66322077  0.30293265\n",
      "   1.09705963]\n",
      " [ 0.11687263  0.16527665  0.72041117 ...  0.6144734   0.59750894\n",
      "   1.09705963]\n",
      " [ 0.11687263  0.16527665 -0.36606097 ...  0.45476163  0.56369225\n",
      "   1.09705963]]\n"
     ]
    }
   ],
   "source": [
    "print(scale)"
   ]
  },
  {
   "cell_type": "code",
   "execution_count": 32,
   "id": "d559e3b6-8ed9-45a3-97d3-0b20a9eab6b0",
   "metadata": {},
   "outputs": [],
   "source": [
    "df_scale = pd.DataFrame(scale,columns = df_num.columns)"
   ]
  },
  {
   "cell_type": "code",
   "execution_count": 33,
   "id": "d789f2a3-1496-403e-a689-0f9005dcee38",
   "metadata": {},
   "outputs": [
    {
     "data": {
      "text/html": [
       "<div>\n",
       "<style scoped>\n",
       "    .dataframe tbody tr th:only-of-type {\n",
       "        vertical-align: middle;\n",
       "    }\n",
       "\n",
       "    .dataframe tbody tr th {\n",
       "        vertical-align: top;\n",
       "    }\n",
       "\n",
       "    .dataframe thead th {\n",
       "        text-align: right;\n",
       "    }\n",
       "</style>\n",
       "<table border=\"1\" class=\"dataframe\">\n",
       "  <thead>\n",
       "    <tr style=\"text-align: right;\">\n",
       "      <th></th>\n",
       "      <th>index</th>\n",
       "      <th>Residential_Area</th>\n",
       "      <th>Air_Quality</th>\n",
       "      <th>Room_Number</th>\n",
       "      <th>Age</th>\n",
       "      <th>Distance</th>\n",
       "      <th>Teachers</th>\n",
       "      <th>Proportion_of_Poor_Population</th>\n",
       "      <th>Number_of_Hospital_Beds</th>\n",
       "      <th>Number_of_Hotel_Rooms</th>\n",
       "      <th>Rainfall</th>\n",
       "      <th>Parks</th>\n",
       "      <th>Sold</th>\n",
       "    </tr>\n",
       "  </thead>\n",
       "  <tbody>\n",
       "    <tr>\n",
       "      <th>0</th>\n",
       "      <td>0</td>\n",
       "      <td>-1.282444</td>\n",
       "      <td>-0.137094</td>\n",
       "      <td>0.408975</td>\n",
       "      <td>-0.115644</td>\n",
       "      <td>0.172845</td>\n",
       "      <td>1.462167</td>\n",
       "      <td>-1.066368</td>\n",
       "      <td>-1.640299</td>\n",
       "      <td>-0.352111</td>\n",
       "      <td>-1.302068</td>\n",
       "      <td>-0.473132</td>\n",
       "      <td>-0.911527</td>\n",
       "    </tr>\n",
       "    <tr>\n",
       "      <th>1</th>\n",
       "      <td>1</td>\n",
       "      <td>-0.590059</td>\n",
       "      <td>-0.733195</td>\n",
       "      <td>0.189974</td>\n",
       "      <td>0.369741</td>\n",
       "      <td>0.476100</td>\n",
       "      <td>0.304963</td>\n",
       "      <td>-0.484136</td>\n",
       "      <td>-0.384875</td>\n",
       "      <td>-0.166019</td>\n",
       "      <td>0.215194</td>\n",
       "      <td>-0.775225</td>\n",
       "      <td>1.097060</td>\n",
       "    </tr>\n",
       "    <tr>\n",
       "      <th>2</th>\n",
       "      <td>2</td>\n",
       "      <td>-0.590059</td>\n",
       "      <td>-0.733195</td>\n",
       "      <td>1.276446</td>\n",
       "      <td>-0.260905</td>\n",
       "      <td>0.495053</td>\n",
       "      <td>0.304963</td>\n",
       "      <td>-1.199330</td>\n",
       "      <td>-0.342847</td>\n",
       "      <td>16.710340</td>\n",
       "      <td>-0.104230</td>\n",
       "      <td>-0.811237</td>\n",
       "      <td>-0.911527</td>\n",
       "    </tr>\n",
       "    <tr>\n",
       "      <th>3</th>\n",
       "      <td>3</td>\n",
       "      <td>-1.301354</td>\n",
       "      <td>-0.828226</td>\n",
       "      <td>1.010516</td>\n",
       "      <td>-0.802977</td>\n",
       "      <td>1.054179</td>\n",
       "      <td>-0.111631</td>\n",
       "      <td>-1.351886</td>\n",
       "      <td>0.927490</td>\n",
       "      <td>-0.337843</td>\n",
       "      <td>0.454762</td>\n",
       "      <td>-0.680402</td>\n",
       "      <td>-0.911527</td>\n",
       "    </tr>\n",
       "    <tr>\n",
       "      <th>4</th>\n",
       "      <td>4</td>\n",
       "      <td>-1.301354</td>\n",
       "      <td>-0.828226</td>\n",
       "      <td>1.222407</td>\n",
       "      <td>-0.505369</td>\n",
       "      <td>1.030487</td>\n",
       "      <td>-0.111631</td>\n",
       "      <td>-1.017382</td>\n",
       "      <td>0.626514</td>\n",
       "      <td>-0.333593</td>\n",
       "      <td>1.253320</td>\n",
       "      <td>-1.404723</td>\n",
       "      <td>-0.911527</td>\n",
       "    </tr>\n",
       "    <tr>\n",
       "      <th>...</th>\n",
       "      <td>...</td>\n",
       "      <td>...</td>\n",
       "      <td>...</td>\n",
       "      <td>...</td>\n",
       "      <td>...</td>\n",
       "      <td>...</td>\n",
       "      <td>...</td>\n",
       "      <td>...</td>\n",
       "      <td>...</td>\n",
       "      <td>...</td>\n",
       "      <td>...</td>\n",
       "      <td>...</td>\n",
       "      <td>...</td>\n",
       "    </tr>\n",
       "    <tr>\n",
       "      <th>493</th>\n",
       "      <td>493</td>\n",
       "      <td>0.116873</td>\n",
       "      <td>0.165277</td>\n",
       "      <td>0.434572</td>\n",
       "      <td>0.022531</td>\n",
       "      <td>-0.637413</td>\n",
       "      <td>-1.176258</td>\n",
       "      <td>-0.409958</td>\n",
       "      <td>0.981720</td>\n",
       "      <td>-0.164805</td>\n",
       "      <td>-0.982644</td>\n",
       "      <td>0.155116</td>\n",
       "      <td>1.097060</td>\n",
       "    </tr>\n",
       "    <tr>\n",
       "      <th>494</th>\n",
       "      <td>494</td>\n",
       "      <td>0.116873</td>\n",
       "      <td>0.165277</td>\n",
       "      <td>-0.238073</td>\n",
       "      <td>0.291796</td>\n",
       "      <td>-0.732180</td>\n",
       "      <td>-1.176258</td>\n",
       "      <td>-0.492534</td>\n",
       "      <td>-0.872945</td>\n",
       "      <td>0.022197</td>\n",
       "      <td>-1.541636</td>\n",
       "      <td>0.522886</td>\n",
       "      <td>1.097060</td>\n",
       "    </tr>\n",
       "    <tr>\n",
       "      <th>495</th>\n",
       "      <td>495</td>\n",
       "      <td>0.116873</td>\n",
       "      <td>0.165277</td>\n",
       "      <td>0.979230</td>\n",
       "      <td>0.798438</td>\n",
       "      <td>-0.779564</td>\n",
       "      <td>-1.176258</td>\n",
       "      <td>-0.973995</td>\n",
       "      <td>-1.641654</td>\n",
       "      <td>-0.162528</td>\n",
       "      <td>-0.663221</td>\n",
       "      <td>0.302933</td>\n",
       "      <td>1.097060</td>\n",
       "    </tr>\n",
       "    <tr>\n",
       "      <th>496</th>\n",
       "      <td>496</td>\n",
       "      <td>0.116873</td>\n",
       "      <td>0.165277</td>\n",
       "      <td>0.720411</td>\n",
       "      <td>0.738208</td>\n",
       "      <td>-0.684797</td>\n",
       "      <td>-1.176258</td>\n",
       "      <td>-0.856429</td>\n",
       "      <td>0.027273</td>\n",
       "      <td>0.403791</td>\n",
       "      <td>0.614473</td>\n",
       "      <td>0.597509</td>\n",
       "      <td>1.097060</td>\n",
       "    </tr>\n",
       "    <tr>\n",
       "      <th>497</th>\n",
       "      <td>497</td>\n",
       "      <td>0.116873</td>\n",
       "      <td>0.165277</td>\n",
       "      <td>-0.366061</td>\n",
       "      <td>0.437057</td>\n",
       "      <td>-0.599506</td>\n",
       "      <td>-1.176258</td>\n",
       "      <td>-0.660486</td>\n",
       "      <td>1.613499</td>\n",
       "      <td>-0.549435</td>\n",
       "      <td>0.454762</td>\n",
       "      <td>0.563692</td>\n",
       "      <td>1.097060</td>\n",
       "    </tr>\n",
       "  </tbody>\n",
       "</table>\n",
       "<p>498 rows × 13 columns</p>\n",
       "</div>"
      ],
      "text/plain": [
       "     index  Residential_Area  Air_Quality  Room_Number       Age  Distance  \\\n",
       "0        0         -1.282444    -0.137094     0.408975 -0.115644  0.172845   \n",
       "1        1         -0.590059    -0.733195     0.189974  0.369741  0.476100   \n",
       "2        2         -0.590059    -0.733195     1.276446 -0.260905  0.495053   \n",
       "3        3         -1.301354    -0.828226     1.010516 -0.802977  1.054179   \n",
       "4        4         -1.301354    -0.828226     1.222407 -0.505369  1.030487   \n",
       "..     ...               ...          ...          ...       ...       ...   \n",
       "493    493          0.116873     0.165277     0.434572  0.022531 -0.637413   \n",
       "494    494          0.116873     0.165277    -0.238073  0.291796 -0.732180   \n",
       "495    495          0.116873     0.165277     0.979230  0.798438 -0.779564   \n",
       "496    496          0.116873     0.165277     0.720411  0.738208 -0.684797   \n",
       "497    497          0.116873     0.165277    -0.366061  0.437057 -0.599506   \n",
       "\n",
       "     Teachers  Proportion_of_Poor_Population  Number_of_Hospital_Beds  \\\n",
       "0    1.462167                      -1.066368                -1.640299   \n",
       "1    0.304963                      -0.484136                -0.384875   \n",
       "2    0.304963                      -1.199330                -0.342847   \n",
       "3   -0.111631                      -1.351886                 0.927490   \n",
       "4   -0.111631                      -1.017382                 0.626514   \n",
       "..        ...                            ...                      ...   \n",
       "493 -1.176258                      -0.409958                 0.981720   \n",
       "494 -1.176258                      -0.492534                -0.872945   \n",
       "495 -1.176258                      -0.973995                -1.641654   \n",
       "496 -1.176258                      -0.856429                 0.027273   \n",
       "497 -1.176258                      -0.660486                 1.613499   \n",
       "\n",
       "     Number_of_Hotel_Rooms  Rainfall     Parks      Sold  \n",
       "0                -0.352111 -1.302068 -0.473132 -0.911527  \n",
       "1                -0.166019  0.215194 -0.775225  1.097060  \n",
       "2                16.710340 -0.104230 -0.811237 -0.911527  \n",
       "3                -0.337843  0.454762 -0.680402 -0.911527  \n",
       "4                -0.333593  1.253320 -1.404723 -0.911527  \n",
       "..                     ...       ...       ...       ...  \n",
       "493              -0.164805 -0.982644  0.155116  1.097060  \n",
       "494               0.022197 -1.541636  0.522886  1.097060  \n",
       "495              -0.162528 -0.663221  0.302933  1.097060  \n",
       "496               0.403791  0.614473  0.597509  1.097060  \n",
       "497              -0.549435  0.454762  0.563692  1.097060  \n",
       "\n",
       "[498 rows x 13 columns]"
      ]
     },
     "execution_count": 33,
     "metadata": {},
     "output_type": "execute_result"
    }
   ],
   "source": [
    "df_scale = df_scale.reset_index()\n",
    "df_scale"
   ]
  },
  {
   "cell_type": "code",
   "execution_count": 34,
   "id": "d5e8d2de-f28c-471e-8505-d8125c8c4a66",
   "metadata": {},
   "outputs": [],
   "source": [
    "# Make a dataframe for independant variables\n",
    "\n",
    "df_independant = pd.concat([df_scale, dummy_var], axis = 1)"
   ]
  },
  {
   "cell_type": "code",
   "execution_count": 35,
   "id": "e9a156d6-ba01-4e9e-b943-543559116261",
   "metadata": {},
   "outputs": [],
   "source": [
    "# Split the data for Training and Testing\n",
    "\n",
    "# Import various function from statsmodels\n",
    "import statsmodels\n",
    "import statsmodels.api as sm\n",
    "\n",
    "df_independant = sm.add_constant(df_independant)"
   ]
  },
  {
   "cell_type": "code",
   "execution_count": 36,
   "id": "614bcdd3-4277-47e4-b69b-5cb563e7d6b7",
   "metadata": {},
   "outputs": [
    {
     "data": {
      "text/html": [
       "<div>\n",
       "<style scoped>\n",
       "    .dataframe tbody tr th:only-of-type {\n",
       "        vertical-align: middle;\n",
       "    }\n",
       "\n",
       "    .dataframe tbody tr th {\n",
       "        vertical-align: top;\n",
       "    }\n",
       "\n",
       "    .dataframe thead th {\n",
       "        text-align: right;\n",
       "    }\n",
       "</style>\n",
       "<table border=\"1\" class=\"dataframe\">\n",
       "  <thead>\n",
       "    <tr style=\"text-align: right;\">\n",
       "      <th></th>\n",
       "      <th>const</th>\n",
       "      <th>index</th>\n",
       "      <th>Residential_Area</th>\n",
       "      <th>Air_Quality</th>\n",
       "      <th>Room_Number</th>\n",
       "      <th>Age</th>\n",
       "      <th>Distance</th>\n",
       "      <th>Teachers</th>\n",
       "      <th>Proportion_of_Poor_Population</th>\n",
       "      <th>Number_of_Hospital_Beds</th>\n",
       "      <th>Number_of_Hotel_Rooms</th>\n",
       "      <th>Rainfall</th>\n",
       "      <th>Parks</th>\n",
       "      <th>Sold</th>\n",
       "      <th>index</th>\n",
       "      <th>Airport_YES</th>\n",
       "      <th>Water_Body_Lake and River</th>\n",
       "      <th>Water_Body_River</th>\n",
       "    </tr>\n",
       "  </thead>\n",
       "  <tbody>\n",
       "    <tr>\n",
       "      <th>0</th>\n",
       "      <td>1.0</td>\n",
       "      <td>0</td>\n",
       "      <td>-1.282444</td>\n",
       "      <td>-0.137094</td>\n",
       "      <td>0.408975</td>\n",
       "      <td>-0.115644</td>\n",
       "      <td>0.172845</td>\n",
       "      <td>1.462167</td>\n",
       "      <td>-1.066368</td>\n",
       "      <td>-1.640299</td>\n",
       "      <td>-0.352111</td>\n",
       "      <td>-1.302068</td>\n",
       "      <td>-0.473132</td>\n",
       "      <td>-0.911527</td>\n",
       "      <td>0</td>\n",
       "      <td>True</td>\n",
       "      <td>False</td>\n",
       "      <td>True</td>\n",
       "    </tr>\n",
       "    <tr>\n",
       "      <th>1</th>\n",
       "      <td>1.0</td>\n",
       "      <td>1</td>\n",
       "      <td>-0.590059</td>\n",
       "      <td>-0.733195</td>\n",
       "      <td>0.189974</td>\n",
       "      <td>0.369741</td>\n",
       "      <td>0.476100</td>\n",
       "      <td>0.304963</td>\n",
       "      <td>-0.484136</td>\n",
       "      <td>-0.384875</td>\n",
       "      <td>-0.166019</td>\n",
       "      <td>0.215194</td>\n",
       "      <td>-0.775225</td>\n",
       "      <td>1.097060</td>\n",
       "      <td>1</td>\n",
       "      <td>False</td>\n",
       "      <td>False</td>\n",
       "      <td>False</td>\n",
       "    </tr>\n",
       "    <tr>\n",
       "      <th>2</th>\n",
       "      <td>1.0</td>\n",
       "      <td>2</td>\n",
       "      <td>-0.590059</td>\n",
       "      <td>-0.733195</td>\n",
       "      <td>1.276446</td>\n",
       "      <td>-0.260905</td>\n",
       "      <td>0.495053</td>\n",
       "      <td>0.304963</td>\n",
       "      <td>-1.199330</td>\n",
       "      <td>-0.342847</td>\n",
       "      <td>16.710340</td>\n",
       "      <td>-0.104230</td>\n",
       "      <td>-0.811237</td>\n",
       "      <td>-0.911527</td>\n",
       "      <td>2</td>\n",
       "      <td>False</td>\n",
       "      <td>False</td>\n",
       "      <td>True</td>\n",
       "    </tr>\n",
       "    <tr>\n",
       "      <th>3</th>\n",
       "      <td>1.0</td>\n",
       "      <td>3</td>\n",
       "      <td>-1.301354</td>\n",
       "      <td>-0.828226</td>\n",
       "      <td>1.010516</td>\n",
       "      <td>-0.802977</td>\n",
       "      <td>1.054179</td>\n",
       "      <td>-0.111631</td>\n",
       "      <td>-1.351886</td>\n",
       "      <td>0.927490</td>\n",
       "      <td>-0.337843</td>\n",
       "      <td>0.454762</td>\n",
       "      <td>-0.680402</td>\n",
       "      <td>-0.911527</td>\n",
       "      <td>3</td>\n",
       "      <td>True</td>\n",
       "      <td>False</td>\n",
       "      <td>False</td>\n",
       "    </tr>\n",
       "    <tr>\n",
       "      <th>4</th>\n",
       "      <td>1.0</td>\n",
       "      <td>4</td>\n",
       "      <td>-1.301354</td>\n",
       "      <td>-0.828226</td>\n",
       "      <td>1.222407</td>\n",
       "      <td>-0.505369</td>\n",
       "      <td>1.030487</td>\n",
       "      <td>-0.111631</td>\n",
       "      <td>-1.017382</td>\n",
       "      <td>0.626514</td>\n",
       "      <td>-0.333593</td>\n",
       "      <td>1.253320</td>\n",
       "      <td>-1.404723</td>\n",
       "      <td>-0.911527</td>\n",
       "      <td>4</td>\n",
       "      <td>False</td>\n",
       "      <td>False</td>\n",
       "      <td>False</td>\n",
       "    </tr>\n",
       "  </tbody>\n",
       "</table>\n",
       "</div>"
      ],
      "text/plain": [
       "   const  index  Residential_Area  Air_Quality  Room_Number       Age  \\\n",
       "0    1.0      0         -1.282444    -0.137094     0.408975 -0.115644   \n",
       "1    1.0      1         -0.590059    -0.733195     0.189974  0.369741   \n",
       "2    1.0      2         -0.590059    -0.733195     1.276446 -0.260905   \n",
       "3    1.0      3         -1.301354    -0.828226     1.010516 -0.802977   \n",
       "4    1.0      4         -1.301354    -0.828226     1.222407 -0.505369   \n",
       "\n",
       "   Distance  Teachers  Proportion_of_Poor_Population  Number_of_Hospital_Beds  \\\n",
       "0  0.172845  1.462167                      -1.066368                -1.640299   \n",
       "1  0.476100  0.304963                      -0.484136                -0.384875   \n",
       "2  0.495053  0.304963                      -1.199330                -0.342847   \n",
       "3  1.054179 -0.111631                      -1.351886                 0.927490   \n",
       "4  1.030487 -0.111631                      -1.017382                 0.626514   \n",
       "\n",
       "   Number_of_Hotel_Rooms  Rainfall     Parks      Sold  index  Airport_YES  \\\n",
       "0              -0.352111 -1.302068 -0.473132 -0.911527      0         True   \n",
       "1              -0.166019  0.215194 -0.775225  1.097060      1        False   \n",
       "2              16.710340 -0.104230 -0.811237 -0.911527      2        False   \n",
       "3              -0.337843  0.454762 -0.680402 -0.911527      3         True   \n",
       "4              -0.333593  1.253320 -1.404723 -0.911527      4        False   \n",
       "\n",
       "   Water_Body_Lake and River  Water_Body_River  \n",
       "0                      False              True  \n",
       "1                      False             False  \n",
       "2                      False              True  \n",
       "3                      False             False  \n",
       "4                      False             False  "
      ]
     },
     "execution_count": 36,
     "metadata": {},
     "output_type": "execute_result"
    }
   ],
   "source": [
    "df_independant.head()"
   ]
  },
  {
   "cell_type": "code",
   "execution_count": 37,
   "id": "cf56e36f-c73f-4c4c-9377-60f57df5356e",
   "metadata": {},
   "outputs": [],
   "source": [
    "# import train_test_split\n",
    "\n",
    "from sklearn.model_selection import train_test_split"
   ]
  },
  {
   "cell_type": "code",
   "execution_count": 38,
   "id": "bb7a75fb-db71-4f3a-9ef2-0725cbdc68a0",
   "metadata": {},
   "outputs": [],
   "source": [
    "X_train, X_test, y_train, y_test = train_test_split(df_independant, df_target, random_state = 10, test_size = 0.2)"
   ]
  },
  {
   "cell_type": "code",
   "execution_count": 39,
   "id": "521cfa32-00c5-4259-94a7-6ec6eb4fee6d",
   "metadata": {},
   "outputs": [
    {
     "name": "stdout",
     "output_type": "stream",
     "text": [
      "X_train (398, 18)\n",
      "y_train (398,)\n",
      "X_test (100, 18)\n",
      "y_test (100,)\n"
     ]
    }
   ],
   "source": [
    "print('X_train', X_train.shape)\n",
    "print('y_train', y_train.shape)\n",
    "\n",
    "print('X_test', X_test.shape)\n",
    "print('y_test', y_test.shape)"
   ]
  },
  {
   "cell_type": "markdown",
   "id": "006fa12a-5d0e-4665-8674-1600188e5fc8",
   "metadata": {},
   "source": [
    "# Linear Regression"
   ]
  },
  {
   "cell_type": "code",
   "execution_count": 40,
   "id": "fffdb7d5-7838-4022-9193-8c3b6f248bf9",
   "metadata": {},
   "outputs": [],
   "source": [
    "from sklearn.linear_model import LinearRegression\n",
    "from sklearn.metrics import mean_squared_error\n",
    "\n",
    "# Create a Linear regression model\n",
    "model = LinearRegression()"
   ]
  },
  {
   "cell_type": "code",
   "execution_count": 41,
   "id": "975640c0-5937-44bd-98f4-cc65b941c551",
   "metadata": {},
   "outputs": [
    {
     "data": {
      "text/html": [
       "<style>#sk-container-id-1 {color: black;background-color: white;}#sk-container-id-1 pre{padding: 0;}#sk-container-id-1 div.sk-toggleable {background-color: white;}#sk-container-id-1 label.sk-toggleable__label {cursor: pointer;display: block;width: 100%;margin-bottom: 0;padding: 0.3em;box-sizing: border-box;text-align: center;}#sk-container-id-1 label.sk-toggleable__label-arrow:before {content: \"▸\";float: left;margin-right: 0.25em;color: #696969;}#sk-container-id-1 label.sk-toggleable__label-arrow:hover:before {color: black;}#sk-container-id-1 div.sk-estimator:hover label.sk-toggleable__label-arrow:before {color: black;}#sk-container-id-1 div.sk-toggleable__content {max-height: 0;max-width: 0;overflow: hidden;text-align: left;background-color: #f0f8ff;}#sk-container-id-1 div.sk-toggleable__content pre {margin: 0.2em;color: black;border-radius: 0.25em;background-color: #f0f8ff;}#sk-container-id-1 input.sk-toggleable__control:checked~div.sk-toggleable__content {max-height: 200px;max-width: 100%;overflow: auto;}#sk-container-id-1 input.sk-toggleable__control:checked~label.sk-toggleable__label-arrow:before {content: \"▾\";}#sk-container-id-1 div.sk-estimator input.sk-toggleable__control:checked~label.sk-toggleable__label {background-color: #d4ebff;}#sk-container-id-1 div.sk-label input.sk-toggleable__control:checked~label.sk-toggleable__label {background-color: #d4ebff;}#sk-container-id-1 input.sk-hidden--visually {border: 0;clip: rect(1px 1px 1px 1px);clip: rect(1px, 1px, 1px, 1px);height: 1px;margin: -1px;overflow: hidden;padding: 0;position: absolute;width: 1px;}#sk-container-id-1 div.sk-estimator {font-family: monospace;background-color: #f0f8ff;border: 1px dotted black;border-radius: 0.25em;box-sizing: border-box;margin-bottom: 0.5em;}#sk-container-id-1 div.sk-estimator:hover {background-color: #d4ebff;}#sk-container-id-1 div.sk-parallel-item::after {content: \"\";width: 100%;border-bottom: 1px solid gray;flex-grow: 1;}#sk-container-id-1 div.sk-label:hover label.sk-toggleable__label {background-color: #d4ebff;}#sk-container-id-1 div.sk-serial::before {content: \"\";position: absolute;border-left: 1px solid gray;box-sizing: border-box;top: 0;bottom: 0;left: 50%;z-index: 0;}#sk-container-id-1 div.sk-serial {display: flex;flex-direction: column;align-items: center;background-color: white;padding-right: 0.2em;padding-left: 0.2em;position: relative;}#sk-container-id-1 div.sk-item {position: relative;z-index: 1;}#sk-container-id-1 div.sk-parallel {display: flex;align-items: stretch;justify-content: center;background-color: white;position: relative;}#sk-container-id-1 div.sk-item::before, #sk-container-id-1 div.sk-parallel-item::before {content: \"\";position: absolute;border-left: 1px solid gray;box-sizing: border-box;top: 0;bottom: 0;left: 50%;z-index: -1;}#sk-container-id-1 div.sk-parallel-item {display: flex;flex-direction: column;z-index: 1;position: relative;background-color: white;}#sk-container-id-1 div.sk-parallel-item:first-child::after {align-self: flex-end;width: 50%;}#sk-container-id-1 div.sk-parallel-item:last-child::after {align-self: flex-start;width: 50%;}#sk-container-id-1 div.sk-parallel-item:only-child::after {width: 0;}#sk-container-id-1 div.sk-dashed-wrapped {border: 1px dashed gray;margin: 0 0.4em 0.5em 0.4em;box-sizing: border-box;padding-bottom: 0.4em;background-color: white;}#sk-container-id-1 div.sk-label label {font-family: monospace;font-weight: bold;display: inline-block;line-height: 1.2em;}#sk-container-id-1 div.sk-label-container {text-align: center;}#sk-container-id-1 div.sk-container {/* jupyter's `normalize.less` sets `[hidden] { display: none; }` but bootstrap.min.css set `[hidden] { display: none !important; }` so we also need the `!important` here to be able to override the default hidden behavior on the sphinx rendered scikit-learn.org. See: https://github.com/scikit-learn/scikit-learn/issues/21755 */display: inline-block !important;position: relative;}#sk-container-id-1 div.sk-text-repr-fallback {display: none;}</style><div id=\"sk-container-id-1\" class=\"sk-top-container\"><div class=\"sk-text-repr-fallback\"><pre>LinearRegression()</pre><b>In a Jupyter environment, please rerun this cell to show the HTML representation or trust the notebook. <br />On GitHub, the HTML representation is unable to render, please try loading this page with nbviewer.org.</b></div><div class=\"sk-container\" hidden><div class=\"sk-item\"><div class=\"sk-estimator sk-toggleable\"><input class=\"sk-toggleable__control sk-hidden--visually\" id=\"sk-estimator-id-1\" type=\"checkbox\" checked><label for=\"sk-estimator-id-1\" class=\"sk-toggleable__label sk-toggleable__label-arrow\">LinearRegression</label><div class=\"sk-toggleable__content\"><pre>LinearRegression()</pre></div></div></div></div></div>"
      ],
      "text/plain": [
       "LinearRegression()"
      ]
     },
     "execution_count": 41,
     "metadata": {},
     "output_type": "execute_result"
    }
   ],
   "source": [
    "# Fit the model to the training data\n",
    "model.fit(X_train, y_train)"
   ]
  },
  {
   "cell_type": "code",
   "execution_count": 42,
   "id": "54e1a695-dc38-474b-97fc-1101c2301275",
   "metadata": {},
   "outputs": [],
   "source": [
    "# Predict on the testing data\n",
    "predictions = model.predict(X_test)"
   ]
  },
  {
   "cell_type": "code",
   "execution_count": 43,
   "id": "577f0c83-2629-4c4b-bdb0-33a442448a46",
   "metadata": {},
   "outputs": [
    {
     "data": {
      "text/plain": [
       "0.8173718888626829"
      ]
     },
     "execution_count": 43,
     "metadata": {},
     "output_type": "execute_result"
    }
   ],
   "source": [
    "model.score(X_test, y_test)"
   ]
  },
  {
   "cell_type": "code",
   "execution_count": 44,
   "id": "cf9d678f-04d8-4df8-aa33-3a6bf759153f",
   "metadata": {},
   "outputs": [
    {
     "data": {
      "text/plain": [
       "0.7624976359780444"
      ]
     },
     "execution_count": 44,
     "metadata": {},
     "output_type": "execute_result"
    }
   ],
   "source": [
    "model.score(X_train, y_train)"
   ]
  },
  {
   "cell_type": "code",
   "execution_count": 45,
   "id": "529f034d-fe6a-4aba-9c6f-e7a2307dc15e",
   "metadata": {},
   "outputs": [
    {
     "data": {
      "text/plain": [
       "array([22.54643539, 27.39840735,  6.01371194, 24.62279556, 12.15893075,\n",
       "       13.24147688, 16.67022346, 25.66565456,  9.50703345, 28.11704874,\n",
       "       20.10380925, 31.97996861, 27.7494175 , 21.2841941 , 26.64068987,\n",
       "        8.1693733 , 23.29099208, 20.32076214, 35.32087816, 33.05755077,\n",
       "       37.53089866, 22.31822842, 17.90935745, 24.93288423,  3.61313364,\n",
       "       22.42015712, 24.04955853,  1.14080403, 22.1528586 , 21.98095176,\n",
       "       30.99864887, 18.47460094, 24.47115012, 15.94716737, 24.85276297,\n",
       "       27.60021664, 23.10156351, 23.57407559, 36.07856382, 41.83009608,\n",
       "       30.57095683, 12.59562389, 19.78670774, 31.98447659, 13.3137158 ,\n",
       "       26.24526278, 31.66815717, 24.94906032, 19.30734382, 24.98848122,\n",
       "       23.56415543, 25.95215834, 26.68869766, 23.9541815 , 21.12523709,\n",
       "       25.24908744, 10.13721903, 15.01905518, 20.7488436 , 25.20136288,\n",
       "       19.53847673, 26.30949469, 33.61883399, 23.20007772, 34.05337745,\n",
       "       15.58818707, 22.34851113, 18.35483462, 33.93630801, 33.10333718,\n",
       "       14.77942718, 12.52458037, 12.05719448,  9.87235418, 20.31706538,\n",
       "       18.38446274, 29.73531231, 33.13734202, 18.2122112 , 20.73523866,\n",
       "       14.51664437, 26.02032028, 29.99627301, 33.75355776, 21.76035831,\n",
       "       21.90330316, 44.98303945, 23.54816585, 13.91284164, 26.26920573,\n",
       "       18.00200736, 26.50656121, 17.95941822,  6.34099532, 26.58655783,\n",
       "       19.85826787, 21.660356  , 18.27432662, 20.00456747, 42.44514096])"
      ]
     },
     "execution_count": 45,
     "metadata": {},
     "output_type": "execute_result"
    }
   ],
   "source": [
    "predictions"
   ]
  },
  {
   "cell_type": "code",
   "execution_count": 46,
   "id": "c95c2a39-3456-4a14-b759-590232b488a7",
   "metadata": {},
   "outputs": [
    {
     "name": "stdout",
     "output_type": "stream",
     "text": [
      "Mean Squared Error 15.498182384260339\n"
     ]
    }
   ],
   "source": [
    "# Calculate mean squared error\n",
    "\n",
    "mse = mean_squared_error(y_test, predictions)\n",
    "print(\"Mean Squared Error\",mse)"
   ]
  },
  {
   "cell_type": "code",
   "execution_count": 47,
   "id": "e95cb4b4-382d-40e1-90a3-24f50e1d4973",
   "metadata": {},
   "outputs": [
    {
     "name": "stdout",
     "output_type": "stream",
     "text": [
      "Mean Absolute Error 3.1331429132865996\n"
     ]
    }
   ],
   "source": [
    "from sklearn.metrics import mean_absolute_error\n",
    "\n",
    "mae = mean_absolute_error(y_test, predictions)\n",
    "print(\"Mean Absolute Error\",mae)"
   ]
  },
  {
   "cell_type": "code",
   "execution_count": 48,
   "id": "2f5729cf-f8d9-4c66-8579-d7a0528c5a8e",
   "metadata": {},
   "outputs": [
    {
     "name": "stdout",
     "output_type": "stream",
     "text": [
      "Root Mean Square 3.9367730928084157\n"
     ]
    }
   ],
   "source": [
    "rms = mse**0.5\n",
    "print(\"Root Mean Square\",rms)"
   ]
  },
  {
   "cell_type": "markdown",
   "id": "223fb59a-40c2-4d37-aff3-619dce6266d9",
   "metadata": {},
   "source": [
    "# Ridge Model"
   ]
  },
  {
   "cell_type": "code",
   "execution_count": 49,
   "id": "fadd7875-a382-4bc1-8702-d4fe3317d912",
   "metadata": {},
   "outputs": [],
   "source": [
    "from sklearn.linear_model import Ridge"
   ]
  },
  {
   "cell_type": "code",
   "execution_count": 50,
   "id": "e5781d07-5341-461f-a3a7-4d4e85c3e27a",
   "metadata": {},
   "outputs": [
    {
     "name": "stdout",
     "output_type": "stream",
     "text": [
      "Mean Squared Error: 15.459329726844512\n"
     ]
    }
   ],
   "source": [
    "# Assuming X_train, X_test, y_train, y_test are already defined from train_test_split\n",
    "\n",
    "# Create a Ridge regression model\n",
    "ridge_model = Ridge(alpha=1.0)  # alpha is the regularization strength\n",
    "\n",
    "# Fit the model to the training data\n",
    "ridge_model.fit(X_train, y_train)\n",
    "\n",
    "# Predict on the testing data\n",
    "predictions = ridge_model.predict(X_test)\n",
    "\n",
    "# Calculate mean squared error\n",
    "mse = mean_squared_error(y_test, predictions)\n",
    "print(\"Mean Squared Error:\", mse)"
   ]
  },
  {
   "cell_type": "code",
   "execution_count": 51,
   "id": "2c37d9fd-c20e-46f0-884e-e732142003c5",
   "metadata": {},
   "outputs": [
    {
     "data": {
      "text/plain": [
       "0.8178297223853883"
      ]
     },
     "execution_count": 51,
     "metadata": {},
     "output_type": "execute_result"
    }
   ],
   "source": [
    "ridge_model.score(X_test, y_test)"
   ]
  },
  {
   "cell_type": "markdown",
   "id": "a13ee34e-7ff7-4214-b62e-a7b104259dc1",
   "metadata": {},
   "source": [
    "# Lasso Regression Model"
   ]
  },
  {
   "cell_type": "code",
   "execution_count": 52,
   "id": "a2de21b4-94d7-4077-a4b5-c7125f74ce12",
   "metadata": {},
   "outputs": [],
   "source": [
    "from sklearn.linear_model import Lasso"
   ]
  },
  {
   "cell_type": "code",
   "execution_count": 53,
   "id": "571e6581-e91f-41c4-92d0-6c618c6d3cef",
   "metadata": {},
   "outputs": [
    {
     "name": "stdout",
     "output_type": "stream",
     "text": [
      "Mean Squared Error: 20.698379031513383\n"
     ]
    }
   ],
   "source": [
    "# Assuming X_train, X_test, y_train, y_test are already defined from train_test_split\n",
    "\n",
    "# Create a Lasso regression model\n",
    "lasso_model = Lasso(alpha=1.0)  # alpha is the regularization strength\n",
    "\n",
    "# Fit the model to the training data\n",
    "lasso_model.fit(X_train, y_train)\n",
    "\n",
    "# Predict on the testing data\n",
    "predictions = lasso_model.predict(X_test)\n",
    "\n",
    "# Calculate mean squared error\n",
    "mse = mean_squared_error(y_test, predictions)\n",
    "print(\"Mean Squared Error:\", mse)"
   ]
  },
  {
   "cell_type": "code",
   "execution_count": 54,
   "id": "b1af227d-0f10-4b6f-a5f0-a93f985e2d88",
   "metadata": {},
   "outputs": [
    {
     "data": {
      "text/plain": [
       "0.75609360037158"
      ]
     },
     "execution_count": 54,
     "metadata": {},
     "output_type": "execute_result"
    }
   ],
   "source": [
    "lasso_model.score(X_test, y_test)"
   ]
  },
  {
   "cell_type": "markdown",
   "id": "b512f0b0-2acc-4331-aaa1-6e91e7e1ad1d",
   "metadata": {},
   "source": [
    "# Decision Tree Regressor"
   ]
  },
  {
   "cell_type": "code",
   "execution_count": 55,
   "id": "24495e97-8b14-4236-b158-b3c359037279",
   "metadata": {},
   "outputs": [],
   "source": [
    "from sklearn.tree import DecisionTreeRegressor"
   ]
  },
  {
   "cell_type": "code",
   "execution_count": 56,
   "id": "3e3a0c63-e455-42bb-a538-e3d1a1a8e91f",
   "metadata": {},
   "outputs": [
    {
     "name": "stdout",
     "output_type": "stream",
     "text": [
      "Mean Squared Error: 12.914499999999997\n"
     ]
    }
   ],
   "source": [
    "# Assuming X_train, X_test, y_train, y_test are already defined from train_test_split\n",
    "\n",
    "# Create a Decision Tree regression model\n",
    "tree_model = DecisionTreeRegressor()\n",
    "\n",
    "# Fit the model to the training data\n",
    "tree_model.fit(X_train, y_train)\n",
    "\n",
    "# Predict on the testing data\n",
    "predictions = tree_model.predict(X_test)\n",
    "\n",
    "# Calculate mean squared error\n",
    "mse = mean_squared_error(y_test, predictions)\n",
    "print(\"Mean Squared Error:\", mse)\n"
   ]
  },
  {
   "cell_type": "code",
   "execution_count": 57,
   "id": "8456b328-739e-4bb7-b09c-592907cbd62f",
   "metadata": {},
   "outputs": [
    {
     "data": {
      "text/plain": [
       "0.8478175902950928"
      ]
     },
     "execution_count": 57,
     "metadata": {},
     "output_type": "execute_result"
    }
   ],
   "source": [
    "tree_model.score(X_test, y_test)"
   ]
  },
  {
   "cell_type": "markdown",
   "id": "dd53f1cc-1e51-466c-93b9-e22c259ce2b1",
   "metadata": {},
   "source": [
    "# Random Forest Regressor"
   ]
  },
  {
   "cell_type": "code",
   "execution_count": 58,
   "id": "0971194a-bc59-499a-a7eb-55d19f8835d8",
   "metadata": {},
   "outputs": [],
   "source": [
    "from sklearn.ensemble import RandomForestRegressor"
   ]
  },
  {
   "cell_type": "code",
   "execution_count": 59,
   "id": "5edcc102-b0b4-46fa-bb55-4d03b38b3b54",
   "metadata": {},
   "outputs": [
    {
     "name": "stdout",
     "output_type": "stream",
     "text": [
      "Mean Squared Error: 6.433220049999999\n"
     ]
    }
   ],
   "source": [
    "# Assuming X_train, X_test, y_train, y_test are already defined from train_test_split\n",
    "\n",
    "# Create a Random Forest regression model\n",
    "forest_model = RandomForestRegressor(n_estimators=100, random_state=42)\n",
    "\n",
    "# Fit the model to the training data\n",
    "forest_model.fit(X_train, y_train)\n",
    "\n",
    "# Predict on the testing data\n",
    "predictions = forest_model.predict(X_test)\n",
    "\n",
    "# Calculate mean squared error\n",
    "mse = mean_squared_error(y_test, predictions)\n",
    "print(\"Mean Squared Error:\", mse)"
   ]
  },
  {
   "cell_type": "code",
   "execution_count": 60,
   "id": "9c1cc51c-1112-49ee-ae7d-26fabf82b150",
   "metadata": {
    "scrolled": true
   },
   "outputs": [
    {
     "data": {
      "text/plain": [
       "0.9241919602484864"
      ]
     },
     "execution_count": 60,
     "metadata": {},
     "output_type": "execute_result"
    }
   ],
   "source": [
    "forest_model.score(X_test, y_test)"
   ]
  },
  {
   "cell_type": "markdown",
   "id": "c5a958eb-5529-402a-9a67-4ad2a310b9c6",
   "metadata": {},
   "source": [
    "# Gaussian Process Regressor"
   ]
  },
  {
   "cell_type": "code",
   "execution_count": 61,
   "id": "42eb663d-2a72-4243-a988-570ffa85688e",
   "metadata": {},
   "outputs": [],
   "source": [
    "from sklearn.gaussian_process import GaussianProcessRegressor\n",
    "from sklearn.gaussian_process.kernels import RBF"
   ]
  },
  {
   "cell_type": "code",
   "execution_count": 62,
   "id": "2043b87b-882d-4453-ab74-aa8513099ea9",
   "metadata": {},
   "outputs": [
    {
     "name": "stdout",
     "output_type": "stream",
     "text": [
      "Mean Squared Error: 13.852615652489519\n"
     ]
    }
   ],
   "source": [
    "# Assuming X_train, X_test, y_train, y_test are already defined from train_test_split\n",
    "\n",
    "# Create a Gaussian Process regression model with an RBF kernel\n",
    "kernel = 1.0 * RBF(length_scale=1.0)\n",
    "gp_model = GaussianProcessRegressor(kernel=kernel, n_restarts_optimizer=10, random_state=42)\n",
    "\n",
    "# Fit the model to the training data\n",
    "gp_model.fit(X_train, y_train)\n",
    "\n",
    "# Predict on the testing data\n",
    "predictions, std_dev = gp_model.predict(X_test, return_std=True)\n",
    "\n",
    "# Calculate mean squared error\n",
    "mse = mean_squared_error(y_test, predictions)\n",
    "print(\"Mean Squared Error:\", mse)"
   ]
  },
  {
   "cell_type": "code",
   "execution_count": 63,
   "id": "0f47a469-66b1-4a7b-837d-097a65112682",
   "metadata": {},
   "outputs": [
    {
     "data": {
      "text/plain": [
       "0.8367629849617275"
      ]
     },
     "execution_count": 63,
     "metadata": {},
     "output_type": "execute_result"
    }
   ],
   "source": [
    "gp_model.score(X_test, y_test)"
   ]
  },
  {
   "cell_type": "markdown",
   "id": "8e20ef42-d5ba-475f-baa1-177d725e90bd",
   "metadata": {},
   "source": [
    "# Polynomial Regression "
   ]
  },
  {
   "cell_type": "code",
   "execution_count": 64,
   "id": "505c0d3c-d23c-47fb-a62b-dcd257e67812",
   "metadata": {},
   "outputs": [],
   "source": [
    "from sklearn.preprocessing import PolynomialFeatures"
   ]
  },
  {
   "cell_type": "code",
   "execution_count": 65,
   "id": "af99b0f1-3cda-415d-b9af-27a7d45c9d4d",
   "metadata": {},
   "outputs": [
    {
     "name": "stdout",
     "output_type": "stream",
     "text": [
      "Mean Squared Error: 35.03613626665136\n"
     ]
    }
   ],
   "source": [
    "# Assuming X_train, X_test, y_train, y_test are already defined from train_test_split\n",
    "\n",
    "# Generate polynomial features\n",
    "degree = 3  # degree of the polynomial\n",
    "poly = PolynomialFeatures(degree=degree)\n",
    "X_train_poly = poly.fit_transform(X_train)\n",
    "X_test_poly = poly.transform(X_test)\n",
    "\n",
    "# Create a Polynomial Regression model\n",
    "poly_model = LinearRegression()\n",
    "\n",
    "# Fit the model to the training data\n",
    "poly_model.fit(X_train_poly, y_train)\n",
    "\n",
    "# Predict on the testing data\n",
    "predictions = poly_model.predict(X_test_poly)\n",
    "\n",
    "# Calculate mean squared error\n",
    "mse = mean_squared_error(y_test, predictions)\n",
    "print(\"Mean Squared Error:\", mse)"
   ]
  },
  {
   "cell_type": "code",
   "execution_count": 66,
   "id": "e814768d-da96-4b5e-b054-f265c13b350f",
   "metadata": {},
   "outputs": [
    {
     "data": {
      "text/plain": [
       "0.5871397542445704"
      ]
     },
     "execution_count": 66,
     "metadata": {},
     "output_type": "execute_result"
    }
   ],
   "source": [
    "poly_model.score(X_test_poly, y_test)"
   ]
  },
  {
   "cell_type": "markdown",
   "id": "713f93fe-8ee3-49f3-b897-ddaa31265f96",
   "metadata": {},
   "source": [
    "# Neural Network Regression  "
   ]
  },
  {
   "cell_type": "code",
   "execution_count": 67,
   "id": "40d14694-775d-4407-a09b-ddf6c62dd2fb",
   "metadata": {},
   "outputs": [],
   "source": [
    "from tensorflow.keras.models import Sequential\n",
    "from tensorflow.keras.layers import Dense\n",
    "from tensorflow.keras.optimizers import Adam"
   ]
  },
  {
   "cell_type": "code",
   "execution_count": 68,
   "id": "d5ff69f5-722d-4b2b-bbf3-87278ccb47c4",
   "metadata": {},
   "outputs": [
    {
     "name": "stdout",
     "output_type": "stream",
     "text": [
      "Epoch 1/100\n",
      "\u001b[1m10/10\u001b[0m \u001b[32m━━━━━━━━━━━━━━━━━━━━\u001b[0m\u001b[37m\u001b[0m \u001b[1m2s\u001b[0m 29ms/step - loss: 576.6965 - val_loss: 513.7429\n",
      "Epoch 2/100\n",
      "\u001b[1m10/10\u001b[0m \u001b[32m━━━━━━━━━━━━━━━━━━━━\u001b[0m\u001b[37m\u001b[0m \u001b[1m0s\u001b[0m 7ms/step - loss: 587.9377 - val_loss: 487.1549\n",
      "Epoch 3/100\n",
      "\u001b[1m10/10\u001b[0m \u001b[32m━━━━━━━━━━━━━━━━━━━━\u001b[0m\u001b[37m\u001b[0m \u001b[1m0s\u001b[0m 8ms/step - loss: 532.2233 - val_loss: 454.6076\n",
      "Epoch 4/100\n",
      "\u001b[1m10/10\u001b[0m \u001b[32m━━━━━━━━━━━━━━━━━━━━\u001b[0m\u001b[37m\u001b[0m \u001b[1m0s\u001b[0m 8ms/step - loss: 497.3657 - val_loss: 411.8695\n",
      "Epoch 5/100\n",
      "\u001b[1m10/10\u001b[0m \u001b[32m━━━━━━━━━━━━━━━━━━━━\u001b[0m\u001b[37m\u001b[0m \u001b[1m0s\u001b[0m 5ms/step - loss: 430.9183 - val_loss: 358.7996\n",
      "Epoch 6/100\n",
      "\u001b[1m10/10\u001b[0m \u001b[32m━━━━━━━━━━━━━━━━━━━━\u001b[0m\u001b[37m\u001b[0m \u001b[1m0s\u001b[0m 4ms/step - loss: 408.6027 - val_loss: 298.2255\n",
      "Epoch 7/100\n",
      "\u001b[1m10/10\u001b[0m \u001b[32m━━━━━━━━━━━━━━━━━━━━\u001b[0m\u001b[37m\u001b[0m \u001b[1m0s\u001b[0m 5ms/step - loss: 307.1084 - val_loss: 233.8796\n",
      "Epoch 8/100\n",
      "\u001b[1m10/10\u001b[0m \u001b[32m━━━━━━━━━━━━━━━━━━━━\u001b[0m\u001b[37m\u001b[0m \u001b[1m0s\u001b[0m 6ms/step - loss: 262.9021 - val_loss: 171.7510\n",
      "Epoch 9/100\n",
      "\u001b[1m10/10\u001b[0m \u001b[32m━━━━━━━━━━━━━━━━━━━━\u001b[0m\u001b[37m\u001b[0m \u001b[1m0s\u001b[0m 5ms/step - loss: 161.9028 - val_loss: 121.2719\n",
      "Epoch 10/100\n",
      "\u001b[1m10/10\u001b[0m \u001b[32m━━━━━━━━━━━━━━━━━━━━\u001b[0m\u001b[37m\u001b[0m \u001b[1m0s\u001b[0m 5ms/step - loss: 140.5081 - val_loss: 86.9299\n",
      "Epoch 11/100\n",
      "\u001b[1m10/10\u001b[0m \u001b[32m━━━━━━━━━━━━━━━━━━━━\u001b[0m\u001b[37m\u001b[0m \u001b[1m0s\u001b[0m 5ms/step - loss: 97.5122 - val_loss: 69.8626\n",
      "Epoch 12/100\n",
      "\u001b[1m10/10\u001b[0m \u001b[32m━━━━━━━━━━━━━━━━━━━━\u001b[0m\u001b[37m\u001b[0m \u001b[1m0s\u001b[0m 5ms/step - loss: 70.0930 - val_loss: 62.3567\n",
      "Epoch 13/100\n",
      "\u001b[1m10/10\u001b[0m \u001b[32m━━━━━━━━━━━━━━━━━━━━\u001b[0m\u001b[37m\u001b[0m \u001b[1m0s\u001b[0m 7ms/step - loss: 62.3007 - val_loss: 56.9079\n",
      "Epoch 14/100\n",
      "\u001b[1m10/10\u001b[0m \u001b[32m━━━━━━━━━━━━━━━━━━━━\u001b[0m\u001b[37m\u001b[0m \u001b[1m0s\u001b[0m 7ms/step - loss: 45.4848 - val_loss: 52.1622\n",
      "Epoch 15/100\n",
      "\u001b[1m10/10\u001b[0m \u001b[32m━━━━━━━━━━━━━━━━━━━━\u001b[0m\u001b[37m\u001b[0m \u001b[1m0s\u001b[0m 6ms/step - loss: 45.9551 - val_loss: 47.9961\n",
      "Epoch 16/100\n",
      "\u001b[1m10/10\u001b[0m \u001b[32m━━━━━━━━━━━━━━━━━━━━\u001b[0m\u001b[37m\u001b[0m \u001b[1m0s\u001b[0m 6ms/step - loss: 41.6628 - val_loss: 44.6308\n",
      "Epoch 17/100\n",
      "\u001b[1m10/10\u001b[0m \u001b[32m━━━━━━━━━━━━━━━━━━━━\u001b[0m\u001b[37m\u001b[0m \u001b[1m0s\u001b[0m 6ms/step - loss: 35.4442 - val_loss: 41.7843\n",
      "Epoch 18/100\n",
      "\u001b[1m10/10\u001b[0m \u001b[32m━━━━━━━━━━━━━━━━━━━━\u001b[0m\u001b[37m\u001b[0m \u001b[1m0s\u001b[0m 7ms/step - loss: 40.4242 - val_loss: 39.2504\n",
      "Epoch 19/100\n",
      "\u001b[1m10/10\u001b[0m \u001b[32m━━━━━━━━━━━━━━━━━━━━\u001b[0m\u001b[37m\u001b[0m \u001b[1m0s\u001b[0m 6ms/step - loss: 30.6223 - val_loss: 36.8861\n",
      "Epoch 20/100\n",
      "\u001b[1m10/10\u001b[0m \u001b[32m━━━━━━━━━━━━━━━━━━━━\u001b[0m\u001b[37m\u001b[0m \u001b[1m0s\u001b[0m 6ms/step - loss: 28.0438 - val_loss: 34.8710\n",
      "Epoch 21/100\n",
      "\u001b[1m10/10\u001b[0m \u001b[32m━━━━━━━━━━━━━━━━━━━━\u001b[0m\u001b[37m\u001b[0m \u001b[1m0s\u001b[0m 6ms/step - loss: 28.9032 - val_loss: 32.7688\n",
      "Epoch 22/100\n",
      "\u001b[1m10/10\u001b[0m \u001b[32m━━━━━━━━━━━━━━━━━━━━\u001b[0m\u001b[37m\u001b[0m \u001b[1m0s\u001b[0m 7ms/step - loss: 23.6502 - val_loss: 31.0355\n",
      "Epoch 23/100\n",
      "\u001b[1m10/10\u001b[0m \u001b[32m━━━━━━━━━━━━━━━━━━━━\u001b[0m\u001b[37m\u001b[0m \u001b[1m0s\u001b[0m 6ms/step - loss: 25.1717 - val_loss: 29.5710\n",
      "Epoch 24/100\n",
      "\u001b[1m10/10\u001b[0m \u001b[32m━━━━━━━━━━━━━━━━━━━━\u001b[0m\u001b[37m\u001b[0m \u001b[1m0s\u001b[0m 6ms/step - loss: 22.2406 - val_loss: 28.0845\n",
      "Epoch 25/100\n",
      "\u001b[1m10/10\u001b[0m \u001b[32m━━━━━━━━━━━━━━━━━━━━\u001b[0m\u001b[37m\u001b[0m \u001b[1m0s\u001b[0m 7ms/step - loss: 25.1535 - val_loss: 26.7709\n",
      "Epoch 26/100\n",
      "\u001b[1m10/10\u001b[0m \u001b[32m━━━━━━━━━━━━━━━━━━━━\u001b[0m\u001b[37m\u001b[0m \u001b[1m0s\u001b[0m 5ms/step - loss: 21.5092 - val_loss: 25.7699\n",
      "Epoch 27/100\n",
      "\u001b[1m10/10\u001b[0m \u001b[32m━━━━━━━━━━━━━━━━━━━━\u001b[0m\u001b[37m\u001b[0m \u001b[1m0s\u001b[0m 7ms/step - loss: 23.3185 - val_loss: 24.5148\n",
      "Epoch 28/100\n",
      "\u001b[1m10/10\u001b[0m \u001b[32m━━━━━━━━━━━━━━━━━━━━\u001b[0m\u001b[37m\u001b[0m \u001b[1m0s\u001b[0m 6ms/step - loss: 20.7991 - val_loss: 23.4220\n",
      "Epoch 29/100\n",
      "\u001b[1m10/10\u001b[0m \u001b[32m━━━━━━━━━━━━━━━━━━━━\u001b[0m\u001b[37m\u001b[0m \u001b[1m0s\u001b[0m 6ms/step - loss: 17.1492 - val_loss: 22.5809\n",
      "Epoch 30/100\n",
      "\u001b[1m10/10\u001b[0m \u001b[32m━━━━━━━━━━━━━━━━━━━━\u001b[0m\u001b[37m\u001b[0m \u001b[1m0s\u001b[0m 6ms/step - loss: 16.6898 - val_loss: 21.8918\n",
      "Epoch 31/100\n",
      "\u001b[1m10/10\u001b[0m \u001b[32m━━━━━━━━━━━━━━━━━━━━\u001b[0m\u001b[37m\u001b[0m \u001b[1m0s\u001b[0m 6ms/step - loss: 18.3885 - val_loss: 21.1258\n",
      "Epoch 32/100\n",
      "\u001b[1m10/10\u001b[0m \u001b[32m━━━━━━━━━━━━━━━━━━━━\u001b[0m\u001b[37m\u001b[0m \u001b[1m0s\u001b[0m 7ms/step - loss: 17.0733 - val_loss: 20.4310\n",
      "Epoch 33/100\n",
      "\u001b[1m10/10\u001b[0m \u001b[32m━━━━━━━━━━━━━━━━━━━━\u001b[0m\u001b[37m\u001b[0m \u001b[1m0s\u001b[0m 7ms/step - loss: 15.5685 - val_loss: 20.0463\n",
      "Epoch 34/100\n",
      "\u001b[1m10/10\u001b[0m \u001b[32m━━━━━━━━━━━━━━━━━━━━\u001b[0m\u001b[37m\u001b[0m \u001b[1m0s\u001b[0m 7ms/step - loss: 15.3866 - val_loss: 19.4766\n",
      "Epoch 35/100\n",
      "\u001b[1m10/10\u001b[0m \u001b[32m━━━━━━━━━━━━━━━━━━━━\u001b[0m\u001b[37m\u001b[0m \u001b[1m0s\u001b[0m 6ms/step - loss: 15.8207 - val_loss: 19.2530\n",
      "Epoch 36/100\n",
      "\u001b[1m10/10\u001b[0m \u001b[32m━━━━━━━━━━━━━━━━━━━━\u001b[0m\u001b[37m\u001b[0m \u001b[1m0s\u001b[0m 7ms/step - loss: 13.3361 - val_loss: 18.8069\n",
      "Epoch 37/100\n",
      "\u001b[1m10/10\u001b[0m \u001b[32m━━━━━━━━━━━━━━━━━━━━\u001b[0m\u001b[37m\u001b[0m \u001b[1m0s\u001b[0m 6ms/step - loss: 14.0906 - val_loss: 18.3264\n",
      "Epoch 38/100\n",
      "\u001b[1m10/10\u001b[0m \u001b[32m━━━━━━━━━━━━━━━━━━━━\u001b[0m\u001b[37m\u001b[0m \u001b[1m0s\u001b[0m 6ms/step - loss: 15.6094 - val_loss: 18.0524\n",
      "Epoch 39/100\n",
      "\u001b[1m10/10\u001b[0m \u001b[32m━━━━━━━━━━━━━━━━━━━━\u001b[0m\u001b[37m\u001b[0m \u001b[1m0s\u001b[0m 6ms/step - loss: 16.7301 - val_loss: 17.8380\n",
      "Epoch 40/100\n",
      "\u001b[1m10/10\u001b[0m \u001b[32m━━━━━━━━━━━━━━━━━━━━\u001b[0m\u001b[37m\u001b[0m \u001b[1m0s\u001b[0m 5ms/step - loss: 14.9509 - val_loss: 17.5925\n",
      "Epoch 41/100\n",
      "\u001b[1m10/10\u001b[0m \u001b[32m━━━━━━━━━━━━━━━━━━━━\u001b[0m\u001b[37m\u001b[0m \u001b[1m0s\u001b[0m 5ms/step - loss: 13.4604 - val_loss: 17.4300\n",
      "Epoch 42/100\n",
      "\u001b[1m10/10\u001b[0m \u001b[32m━━━━━━━━━━━━━━━━━━━━\u001b[0m\u001b[37m\u001b[0m \u001b[1m0s\u001b[0m 5ms/step - loss: 13.2411 - val_loss: 17.2973\n",
      "Epoch 43/100\n",
      "\u001b[1m10/10\u001b[0m \u001b[32m━━━━━━━━━━━━━━━━━━━━\u001b[0m\u001b[37m\u001b[0m \u001b[1m0s\u001b[0m 6ms/step - loss: 13.0024 - val_loss: 17.0657\n",
      "Epoch 44/100\n",
      "\u001b[1m10/10\u001b[0m \u001b[32m━━━━━━━━━━━━━━━━━━━━\u001b[0m\u001b[37m\u001b[0m \u001b[1m0s\u001b[0m 7ms/step - loss: 16.3675 - val_loss: 16.7815\n",
      "Epoch 45/100\n",
      "\u001b[1m10/10\u001b[0m \u001b[32m━━━━━━━━━━━━━━━━━━━━\u001b[0m\u001b[37m\u001b[0m \u001b[1m0s\u001b[0m 5ms/step - loss: 10.3318 - val_loss: 16.6799\n",
      "Epoch 46/100\n",
      "\u001b[1m10/10\u001b[0m \u001b[32m━━━━━━━━━━━━━━━━━━━━\u001b[0m\u001b[37m\u001b[0m \u001b[1m0s\u001b[0m 6ms/step - loss: 13.4695 - val_loss: 16.6216\n",
      "Epoch 47/100\n",
      "\u001b[1m10/10\u001b[0m \u001b[32m━━━━━━━━━━━━━━━━━━━━\u001b[0m\u001b[37m\u001b[0m \u001b[1m0s\u001b[0m 6ms/step - loss: 12.4579 - val_loss: 16.5410\n",
      "Epoch 48/100\n",
      "\u001b[1m10/10\u001b[0m \u001b[32m━━━━━━━━━━━━━━━━━━━━\u001b[0m\u001b[37m\u001b[0m \u001b[1m0s\u001b[0m 5ms/step - loss: 11.3537 - val_loss: 16.4163\n",
      "Epoch 49/100\n",
      "\u001b[1m10/10\u001b[0m \u001b[32m━━━━━━━━━━━━━━━━━━━━\u001b[0m\u001b[37m\u001b[0m \u001b[1m0s\u001b[0m 5ms/step - loss: 11.9252 - val_loss: 16.2748\n",
      "Epoch 50/100\n",
      "\u001b[1m10/10\u001b[0m \u001b[32m━━━━━━━━━━━━━━━━━━━━\u001b[0m\u001b[37m\u001b[0m \u001b[1m0s\u001b[0m 5ms/step - loss: 11.0713 - val_loss: 16.3030\n",
      "Epoch 51/100\n",
      "\u001b[1m10/10\u001b[0m \u001b[32m━━━━━━━━━━━━━━━━━━━━\u001b[0m\u001b[37m\u001b[0m \u001b[1m0s\u001b[0m 6ms/step - loss: 11.0069 - val_loss: 16.3398\n",
      "Epoch 52/100\n",
      "\u001b[1m10/10\u001b[0m \u001b[32m━━━━━━━━━━━━━━━━━━━━\u001b[0m\u001b[37m\u001b[0m \u001b[1m0s\u001b[0m 5ms/step - loss: 11.8535 - val_loss: 16.1184\n",
      "Epoch 53/100\n",
      "\u001b[1m10/10\u001b[0m \u001b[32m━━━━━━━━━━━━━━━━━━━━\u001b[0m\u001b[37m\u001b[0m \u001b[1m0s\u001b[0m 5ms/step - loss: 11.7024 - val_loss: 16.1247\n",
      "Epoch 54/100\n",
      "\u001b[1m10/10\u001b[0m \u001b[32m━━━━━━━━━━━━━━━━━━━━\u001b[0m\u001b[37m\u001b[0m \u001b[1m0s\u001b[0m 5ms/step - loss: 10.6701 - val_loss: 16.0659\n",
      "Epoch 55/100\n",
      "\u001b[1m10/10\u001b[0m \u001b[32m━━━━━━━━━━━━━━━━━━━━\u001b[0m\u001b[37m\u001b[0m \u001b[1m0s\u001b[0m 5ms/step - loss: 11.3279 - val_loss: 15.9298\n",
      "Epoch 56/100\n",
      "\u001b[1m10/10\u001b[0m \u001b[32m━━━━━━━━━━━━━━━━━━━━\u001b[0m\u001b[37m\u001b[0m \u001b[1m0s\u001b[0m 5ms/step - loss: 12.3013 - val_loss: 15.8642\n",
      "Epoch 57/100\n",
      "\u001b[1m10/10\u001b[0m \u001b[32m━━━━━━━━━━━━━━━━━━━━\u001b[0m\u001b[37m\u001b[0m \u001b[1m0s\u001b[0m 8ms/step - loss: 9.8366 - val_loss: 15.8333\n",
      "Epoch 58/100\n",
      "\u001b[1m10/10\u001b[0m \u001b[32m━━━━━━━━━━━━━━━━━━━━\u001b[0m\u001b[37m\u001b[0m \u001b[1m0s\u001b[0m 5ms/step - loss: 12.0453 - val_loss: 15.8376\n",
      "Epoch 59/100\n",
      "\u001b[1m10/10\u001b[0m \u001b[32m━━━━━━━━━━━━━━━━━━━━\u001b[0m\u001b[37m\u001b[0m \u001b[1m0s\u001b[0m 5ms/step - loss: 9.9119 - val_loss: 15.7650\n",
      "Epoch 60/100\n",
      "\u001b[1m10/10\u001b[0m \u001b[32m━━━━━━━━━━━━━━━━━━━━\u001b[0m\u001b[37m\u001b[0m \u001b[1m0s\u001b[0m 6ms/step - loss: 11.5368 - val_loss: 15.6933\n",
      "Epoch 61/100\n",
      "\u001b[1m10/10\u001b[0m \u001b[32m━━━━━━━━━━━━━━━━━━━━\u001b[0m\u001b[37m\u001b[0m \u001b[1m0s\u001b[0m 6ms/step - loss: 11.0535 - val_loss: 15.7802\n",
      "Epoch 62/100\n",
      "\u001b[1m10/10\u001b[0m \u001b[32m━━━━━━━━━━━━━━━━━━━━\u001b[0m\u001b[37m\u001b[0m \u001b[1m0s\u001b[0m 6ms/step - loss: 10.9833 - val_loss: 15.5525\n",
      "Epoch 63/100\n",
      "\u001b[1m10/10\u001b[0m \u001b[32m━━━━━━━━━━━━━━━━━━━━\u001b[0m\u001b[37m\u001b[0m \u001b[1m0s\u001b[0m 5ms/step - loss: 11.9853 - val_loss: 15.6834\n",
      "Epoch 64/100\n",
      "\u001b[1m10/10\u001b[0m \u001b[32m━━━━━━━━━━━━━━━━━━━━\u001b[0m\u001b[37m\u001b[0m \u001b[1m0s\u001b[0m 5ms/step - loss: 11.4200 - val_loss: 15.6731\n",
      "Epoch 65/100\n",
      "\u001b[1m10/10\u001b[0m \u001b[32m━━━━━━━━━━━━━━━━━━━━\u001b[0m\u001b[37m\u001b[0m \u001b[1m0s\u001b[0m 5ms/step - loss: 10.1252 - val_loss: 15.6171\n",
      "Epoch 66/100\n",
      "\u001b[1m10/10\u001b[0m \u001b[32m━━━━━━━━━━━━━━━━━━━━\u001b[0m\u001b[37m\u001b[0m \u001b[1m0s\u001b[0m 5ms/step - loss: 10.4484 - val_loss: 15.4570\n",
      "Epoch 67/100\n",
      "\u001b[1m10/10\u001b[0m \u001b[32m━━━━━━━━━━━━━━━━━━━━\u001b[0m\u001b[37m\u001b[0m \u001b[1m0s\u001b[0m 8ms/step - loss: 10.0176 - val_loss: 15.4037\n",
      "Epoch 68/100\n",
      "\u001b[1m10/10\u001b[0m \u001b[32m━━━━━━━━━━━━━━━━━━━━\u001b[0m\u001b[37m\u001b[0m \u001b[1m0s\u001b[0m 5ms/step - loss: 9.9962 - val_loss: 15.3858\n",
      "Epoch 69/100\n",
      "\u001b[1m10/10\u001b[0m \u001b[32m━━━━━━━━━━━━━━━━━━━━\u001b[0m\u001b[37m\u001b[0m \u001b[1m0s\u001b[0m 4ms/step - loss: 10.4258 - val_loss: 15.4450\n",
      "Epoch 70/100\n",
      "\u001b[1m10/10\u001b[0m \u001b[32m━━━━━━━━━━━━━━━━━━━━\u001b[0m\u001b[37m\u001b[0m \u001b[1m0s\u001b[0m 4ms/step - loss: 9.5342 - val_loss: 15.4071\n",
      "Epoch 71/100\n",
      "\u001b[1m10/10\u001b[0m \u001b[32m━━━━━━━━━━━━━━━━━━━━\u001b[0m\u001b[37m\u001b[0m \u001b[1m0s\u001b[0m 5ms/step - loss: 8.1406 - val_loss: 15.3722\n",
      "Epoch 72/100\n",
      "\u001b[1m10/10\u001b[0m \u001b[32m━━━━━━━━━━━━━━━━━━━━\u001b[0m\u001b[37m\u001b[0m \u001b[1m0s\u001b[0m 5ms/step - loss: 8.5822 - val_loss: 15.2761\n",
      "Epoch 73/100\n",
      "\u001b[1m10/10\u001b[0m \u001b[32m━━━━━━━━━━━━━━━━━━━━\u001b[0m\u001b[37m\u001b[0m \u001b[1m0s\u001b[0m 5ms/step - loss: 8.7732 - val_loss: 15.3822\n",
      "Epoch 74/100\n",
      "\u001b[1m10/10\u001b[0m \u001b[32m━━━━━━━━━━━━━━━━━━━━\u001b[0m\u001b[37m\u001b[0m \u001b[1m0s\u001b[0m 5ms/step - loss: 9.6620 - val_loss: 15.2857\n",
      "Epoch 75/100\n",
      "\u001b[1m10/10\u001b[0m \u001b[32m━━━━━━━━━━━━━━━━━━━━\u001b[0m\u001b[37m\u001b[0m \u001b[1m0s\u001b[0m 5ms/step - loss: 9.2144 - val_loss: 15.1854\n",
      "Epoch 76/100\n",
      "\u001b[1m10/10\u001b[0m \u001b[32m━━━━━━━━━━━━━━━━━━━━\u001b[0m\u001b[37m\u001b[0m \u001b[1m0s\u001b[0m 7ms/step - loss: 9.5235 - val_loss: 15.1965\n",
      "Epoch 77/100\n",
      "\u001b[1m10/10\u001b[0m \u001b[32m━━━━━━━━━━━━━━━━━━━━\u001b[0m\u001b[37m\u001b[0m \u001b[1m0s\u001b[0m 4ms/step - loss: 8.3312 - val_loss: 15.1153\n",
      "Epoch 78/100\n",
      "\u001b[1m10/10\u001b[0m \u001b[32m━━━━━━━━━━━━━━━━━━━━\u001b[0m\u001b[37m\u001b[0m \u001b[1m0s\u001b[0m 5ms/step - loss: 10.0614 - val_loss: 15.1765\n",
      "Epoch 79/100\n",
      "\u001b[1m10/10\u001b[0m \u001b[32m━━━━━━━━━━━━━━━━━━━━\u001b[0m\u001b[37m\u001b[0m \u001b[1m0s\u001b[0m 4ms/step - loss: 8.6237 - val_loss: 15.2133\n",
      "Epoch 80/100\n",
      "\u001b[1m10/10\u001b[0m \u001b[32m━━━━━━━━━━━━━━━━━━━━\u001b[0m\u001b[37m\u001b[0m \u001b[1m0s\u001b[0m 5ms/step - loss: 8.5663 - val_loss: 15.0188\n",
      "Epoch 81/100\n",
      "\u001b[1m10/10\u001b[0m \u001b[32m━━━━━━━━━━━━━━━━━━━━\u001b[0m\u001b[37m\u001b[0m \u001b[1m0s\u001b[0m 6ms/step - loss: 8.1570 - val_loss: 14.9715\n",
      "Epoch 82/100\n",
      "\u001b[1m10/10\u001b[0m \u001b[32m━━━━━━━━━━━━━━━━━━━━\u001b[0m\u001b[37m\u001b[0m \u001b[1m0s\u001b[0m 5ms/step - loss: 9.8500 - val_loss: 14.8965\n",
      "Epoch 83/100\n",
      "\u001b[1m10/10\u001b[0m \u001b[32m━━━━━━━━━━━━━━━━━━━━\u001b[0m\u001b[37m\u001b[0m \u001b[1m0s\u001b[0m 5ms/step - loss: 9.0189 - val_loss: 14.8718\n",
      "Epoch 84/100\n",
      "\u001b[1m10/10\u001b[0m \u001b[32m━━━━━━━━━━━━━━━━━━━━\u001b[0m\u001b[37m\u001b[0m \u001b[1m0s\u001b[0m 5ms/step - loss: 8.8478 - val_loss: 15.1785\n",
      "Epoch 85/100\n",
      "\u001b[1m10/10\u001b[0m \u001b[32m━━━━━━━━━━━━━━━━━━━━\u001b[0m\u001b[37m\u001b[0m \u001b[1m0s\u001b[0m 5ms/step - loss: 9.7203 - val_loss: 15.0878\n",
      "Epoch 86/100\n",
      "\u001b[1m10/10\u001b[0m \u001b[32m━━━━━━━━━━━━━━━━━━━━\u001b[0m\u001b[37m\u001b[0m \u001b[1m0s\u001b[0m 6ms/step - loss: 9.5195 - val_loss: 14.8193\n",
      "Epoch 87/100\n",
      "\u001b[1m10/10\u001b[0m \u001b[32m━━━━━━━━━━━━━━━━━━━━\u001b[0m\u001b[37m\u001b[0m \u001b[1m0s\u001b[0m 5ms/step - loss: 8.3691 - val_loss: 14.7909\n",
      "Epoch 88/100\n",
      "\u001b[1m10/10\u001b[0m \u001b[32m━━━━━━━━━━━━━━━━━━━━\u001b[0m\u001b[37m\u001b[0m \u001b[1m0s\u001b[0m 5ms/step - loss: 7.9335 - val_loss: 14.9411\n",
      "Epoch 89/100\n",
      "\u001b[1m10/10\u001b[0m \u001b[32m━━━━━━━━━━━━━━━━━━━━\u001b[0m\u001b[37m\u001b[0m \u001b[1m0s\u001b[0m 5ms/step - loss: 9.8064 - val_loss: 14.8030\n",
      "Epoch 90/100\n",
      "\u001b[1m10/10\u001b[0m \u001b[32m━━━━━━━━━━━━━━━━━━━━\u001b[0m\u001b[37m\u001b[0m \u001b[1m0s\u001b[0m 4ms/step - loss: 7.6997 - val_loss: 14.8418\n",
      "Epoch 91/100\n",
      "\u001b[1m10/10\u001b[0m \u001b[32m━━━━━━━━━━━━━━━━━━━━\u001b[0m\u001b[37m\u001b[0m \u001b[1m0s\u001b[0m 5ms/step - loss: 8.5754 - val_loss: 14.6992\n",
      "Epoch 92/100\n",
      "\u001b[1m10/10\u001b[0m \u001b[32m━━━━━━━━━━━━━━━━━━━━\u001b[0m\u001b[37m\u001b[0m \u001b[1m0s\u001b[0m 5ms/step - loss: 6.7568 - val_loss: 14.7338\n",
      "Epoch 93/100\n",
      "\u001b[1m10/10\u001b[0m \u001b[32m━━━━━━━━━━━━━━━━━━━━\u001b[0m\u001b[37m\u001b[0m \u001b[1m0s\u001b[0m 4ms/step - loss: 8.9882 - val_loss: 14.6618\n",
      "Epoch 94/100\n",
      "\u001b[1m10/10\u001b[0m \u001b[32m━━━━━━━━━━━━━━━━━━━━\u001b[0m\u001b[37m\u001b[0m \u001b[1m0s\u001b[0m 7ms/step - loss: 9.2748 - val_loss: 14.7250\n",
      "Epoch 95/100\n",
      "\u001b[1m10/10\u001b[0m \u001b[32m━━━━━━━━━━━━━━━━━━━━\u001b[0m\u001b[37m\u001b[0m \u001b[1m0s\u001b[0m 5ms/step - loss: 8.3349 - val_loss: 14.6341\n",
      "Epoch 96/100\n",
      "\u001b[1m10/10\u001b[0m \u001b[32m━━━━━━━━━━━━━━━━━━━━\u001b[0m\u001b[37m\u001b[0m \u001b[1m0s\u001b[0m 5ms/step - loss: 7.4732 - val_loss: 14.7561\n",
      "Epoch 97/100\n",
      "\u001b[1m10/10\u001b[0m \u001b[32m━━━━━━━━━━━━━━━━━━━━\u001b[0m\u001b[37m\u001b[0m \u001b[1m0s\u001b[0m 5ms/step - loss: 7.7890 - val_loss: 14.4984\n",
      "Epoch 98/100\n",
      "\u001b[1m10/10\u001b[0m \u001b[32m━━━━━━━━━━━━━━━━━━━━\u001b[0m\u001b[37m\u001b[0m \u001b[1m0s\u001b[0m 4ms/step - loss: 8.6422 - val_loss: 14.5417\n",
      "Epoch 99/100\n",
      "\u001b[1m10/10\u001b[0m \u001b[32m━━━━━━━━━━━━━━━━━━━━\u001b[0m\u001b[37m\u001b[0m \u001b[1m0s\u001b[0m 5ms/step - loss: 8.4753 - val_loss: 14.8141\n",
      "Epoch 100/100\n",
      "\u001b[1m10/10\u001b[0m \u001b[32m━━━━━━━━━━━━━━━━━━━━\u001b[0m\u001b[37m\u001b[0m \u001b[1m0s\u001b[0m 5ms/step - loss: 9.4112 - val_loss: 14.4478\n",
      "\u001b[1m4/4\u001b[0m \u001b[32m━━━━━━━━━━━━━━━━━━━━\u001b[0m\u001b[37m\u001b[0m \u001b[1m0s\u001b[0m 15ms/step\n",
      "Mean Squared Error: 10.704582161564636\n"
     ]
    }
   ],
   "source": [
    "# Assuming X_train, X_test, y_train, y_test are already defined from train_test_split\n",
    "\n",
    "# Normalize the features\n",
    "scaler = StandardScaler()\n",
    "X_train_scaled = scaler.fit_transform(X_train)\n",
    "X_test_scaled = scaler.transform(X_test)\n",
    "\n",
    "# Create a neural network model\n",
    "model = Sequential([\n",
    "    Dense(64, activation='relu', input_shape=(X_train_scaled.shape[1],)),\n",
    "    Dense(32, activation='relu'),\n",
    "    Dense(1)\n",
    "])\n",
    "\n",
    "# Compile the model\n",
    "model.compile(optimizer=Adam(), loss='mean_squared_error')\n",
    "\n",
    "# Fit the model to the training data\n",
    "history = model.fit(X_train_scaled, y_train, epochs=100, batch_size=32, validation_split=0.2)\n",
    "\n",
    "# Predict on the testing data\n",
    "predictions = model.predict(X_test_scaled)\n",
    "\n",
    "# Calculate mean squared error\n",
    "mse = mean_squared_error(y_test, predictions)\n",
    "print(\"Mean Squared Error:\", mse)"
   ]
  },
  {
   "cell_type": "markdown",
   "id": "97a04679-ce6f-4d47-9128-0333b4038d6a",
   "metadata": {},
   "source": [
    "# KNN"
   ]
  },
  {
   "cell_type": "code",
   "execution_count": 69,
   "id": "ffe385ab-6a0f-4f9a-b63d-6f8ba68efd56",
   "metadata": {},
   "outputs": [],
   "source": [
    "from sklearn.neighbors import KNeighborsRegressor"
   ]
  },
  {
   "cell_type": "code",
   "execution_count": 70,
   "id": "5ce4359c-b2d7-453d-a3a4-408bdd82d304",
   "metadata": {},
   "outputs": [
    {
     "name": "stdout",
     "output_type": "stream",
     "text": [
      "Mean Squared Error: 35.701103999999994\n"
     ]
    }
   ],
   "source": [
    "# Assuming X_train, X_test, y_train, y_test are already defined from train_test_split\n",
    "\n",
    "# Create a KNN regression model\n",
    "k = 5  # number of neighbors\n",
    "knn_model = KNeighborsRegressor(n_neighbors=k)\n",
    "\n",
    "# Fit the model to the training data\n",
    "knn_model.fit(X_train, y_train)\n",
    "\n",
    "# Predict on the testing data\n",
    "predictions = knn_model.predict(X_test)\n",
    "\n",
    "# Calculate mean squared error\n",
    "mse = mean_squared_error(y_test, predictions)\n",
    "print(\"Mean Squared Error:\", mse)"
   ]
  },
  {
   "cell_type": "code",
   "execution_count": 71,
   "id": "115b5ab5-a82c-45a8-bc99-ab7d72c12cb7",
   "metadata": {},
   "outputs": [
    {
     "data": {
      "text/plain": [
       "0.579303880456425"
      ]
     },
     "execution_count": 71,
     "metadata": {},
     "output_type": "execute_result"
    }
   ],
   "source": [
    "knn_model.score(X_test, y_test)"
   ]
  },
  {
   "cell_type": "markdown",
   "id": "a9a649d6-6b8d-4172-99c4-6643659388aa",
   "metadata": {},
   "source": [
    "# SVR"
   ]
  },
  {
   "cell_type": "code",
   "execution_count": 72,
   "id": "60ba332c-741a-4fd9-a87d-35c6a897a93e",
   "metadata": {},
   "outputs": [],
   "source": [
    "from sklearn.svm import SVR"
   ]
  },
  {
   "cell_type": "code",
   "execution_count": 73,
   "id": "ed8edf7c-19e2-4cad-87e7-4ebdb32c7071",
   "metadata": {},
   "outputs": [
    {
     "name": "stdout",
     "output_type": "stream",
     "text": [
      "Mean Squared Error: 67.97565294771022\n"
     ]
    }
   ],
   "source": [
    "# Assuming X_train, X_test, y_train, y_test are already defined from train_test_split\n",
    "\n",
    "# Create a SVM regression model\n",
    "svm_model = SVR(kernel='rbf')  # 'rbf' kernel is commonly used for non-linear regression\n",
    "\n",
    "# Fit the model to the training data\n",
    "svm_model.fit(X_train, y_train)\n",
    "\n",
    "# Predict on the testing data\n",
    "predictions = svm_model.predict(X_test)\n",
    "\n",
    "# Calculate mean squared error\n",
    "mse = mean_squared_error(y_test, predictions)\n",
    "print(\"Mean Squared Error:\", mse)"
   ]
  }
 ],
 "metadata": {
  "kernelspec": {
   "display_name": "Python 3 (ipykernel)",
   "language": "python",
   "name": "python3"
  },
  "language_info": {
   "codemirror_mode": {
    "name": "ipython",
    "version": 3
   },
   "file_extension": ".py",
   "mimetype": "text/x-python",
   "name": "python",
   "nbconvert_exporter": "python",
   "pygments_lexer": "ipython3",
   "version": "3.11.7"
  }
 },
 "nbformat": 4,
 "nbformat_minor": 5
}
